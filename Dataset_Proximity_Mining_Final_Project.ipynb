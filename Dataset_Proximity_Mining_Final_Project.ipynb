{
 "cells": [
  {
   "cell_type": "markdown",
   "id": "eb037bef",
   "metadata": {},
   "source": [
    "# Using ML techniques to detect near-duplicate files in big data repositories"
   ]
  },
  {
   "cell_type": "markdown",
   "id": "851b5f77",
   "metadata": {},
   "source": [
    "### training -> restricted index  |  testing -> all topics index  |  for reference -> matching"
   ]
  },
  {
   "cell_type": "code",
   "execution_count": 1,
   "id": "15d467cf",
   "metadata": {},
   "outputs": [],
   "source": [
    "# pip install imblearn"
   ]
  },
  {
   "cell_type": "code",
   "execution_count": 2,
   "id": "a7e97115",
   "metadata": {},
   "outputs": [],
   "source": [
    "import pandas as pd \n",
    "import numpy as np\n",
    "import matplotlib.pyplot as plt\n",
    "import seaborn as sns\n",
    "\n",
    "from sklearn.ensemble import RandomForestClassifier\n",
    "from sklearn.neighbors import KNeighborsClassifier\n",
    "from sklearn.model_selection import train_test_split\n",
    "from sklearn.metrics import accuracy_score, confusion_matrix, precision_score, recall_score\n",
    "from sklearn.model_selection import train_test_split\n",
    "from imblearn.over_sampling import SMOTE\n",
    "from sklearn.model_selection import KFold\n",
    "from sklearn.model_selection import cross_val_score\n",
    "from sklearn.metrics import f1_score"
   ]
  },
  {
   "cell_type": "code",
   "execution_count": 3,
   "id": "cd47d546",
   "metadata": {},
   "outputs": [],
   "source": [
    "pd.set_option('display.max_rows', None)"
   ]
  },
  {
   "cell_type": "code",
   "execution_count": 4,
   "id": "ee682504",
   "metadata": {},
   "outputs": [],
   "source": [
    "train_in = pd.read_csv(\"restricted_topics_datasets_index.csv\")\n",
    "train_m = pd.read_csv(\"restricted_topics_datasets_matching.csv\")\n",
    "test_in = pd.read_csv(\"all_topics_datasets_index.csv\")\n",
    "test_m = pd.read_csv(\"all_topics_datasets_matching.csv\")"
   ]
  },
  {
   "cell_type": "code",
   "execution_count": 5,
   "id": "66ec52ba",
   "metadata": {},
   "outputs": [
    {
     "data": {
      "text/html": [
       "<div>\n",
       "<style scoped>\n",
       "    .dataframe tbody tr th:only-of-type {\n",
       "        vertical-align: middle;\n",
       "    }\n",
       "\n",
       "    .dataframe tbody tr th {\n",
       "        vertical-align: top;\n",
       "    }\n",
       "\n",
       "    .dataframe thead th {\n",
       "        text-align: right;\n",
       "    }\n",
       "</style>\n",
       "<table border=\"1\" class=\"dataframe\">\n",
       "  <thead>\n",
       "    <tr style=\"text-align: right;\">\n",
       "      <th></th>\n",
       "      <th>did</th>\n",
       "      <th>dataset_name</th>\n",
       "      <th>num_instances</th>\n",
       "      <th>num_attributes</th>\n",
       "      <th>dimensionality</th>\n",
       "      <th>num_numeric_attr</th>\n",
       "      <th>pct_numeric_attr</th>\n",
       "      <th>num_nominal_attr</th>\n",
       "      <th>pct_nominal_attr</th>\n",
       "      <th>avg_nominal_values</th>\n",
       "      <th>...</th>\n",
       "      <th>min_numeric_mean</th>\n",
       "      <th>max_numeric_mean</th>\n",
       "      <th>missing_attr_cnt</th>\n",
       "      <th>missing_attr_pct</th>\n",
       "      <th>missing_instances_max_cnt</th>\n",
       "      <th>missing_instances_max_pct</th>\n",
       "      <th>missing_instances_min_cnt</th>\n",
       "      <th>missing_instances_min_pct</th>\n",
       "      <th>missing_instances_mean</th>\n",
       "      <th>missing_instances_mean_pct</th>\n",
       "    </tr>\n",
       "  </thead>\n",
       "  <tbody>\n",
       "    <tr>\n",
       "      <th>0</th>\n",
       "      <td>15</td>\n",
       "      <td>breast-w</td>\n",
       "      <td>699.0</td>\n",
       "      <td>10</td>\n",
       "      <td>1.430620</td>\n",
       "      <td>9</td>\n",
       "      <td>90.0</td>\n",
       "      <td>1</td>\n",
       "      <td>10.0</td>\n",
       "      <td>2.00000</td>\n",
       "      <td>...</td>\n",
       "      <td>2.0</td>\n",
       "      <td>4.0</td>\n",
       "      <td>1</td>\n",
       "      <td>10.0</td>\n",
       "      <td>16</td>\n",
       "      <td>2.28898</td>\n",
       "      <td>16</td>\n",
       "      <td>2.28898</td>\n",
       "      <td>1.6</td>\n",
       "      <td>0.228898</td>\n",
       "    </tr>\n",
       "    <tr>\n",
       "      <th>1</th>\n",
       "      <td>21</td>\n",
       "      <td>car</td>\n",
       "      <td>1728.0</td>\n",
       "      <td>7</td>\n",
       "      <td>0.405093</td>\n",
       "      <td>0</td>\n",
       "      <td>0.0</td>\n",
       "      <td>7</td>\n",
       "      <td>100.0</td>\n",
       "      <td>3.57143</td>\n",
       "      <td>...</td>\n",
       "      <td>0.0</td>\n",
       "      <td>0.0</td>\n",
       "      <td>0</td>\n",
       "      <td>0.0</td>\n",
       "      <td>0</td>\n",
       "      <td>0.00000</td>\n",
       "      <td>0</td>\n",
       "      <td>0.00000</td>\n",
       "      <td>0.0</td>\n",
       "      <td>0.000000</td>\n",
       "    </tr>\n",
       "    <tr>\n",
       "      <th>2</th>\n",
       "      <td>4540</td>\n",
       "      <td>ParkinsonSpeechDatasetwithMultipleTypesofSound...</td>\n",
       "      <td>1039.0</td>\n",
       "      <td>29</td>\n",
       "      <td>2.791150</td>\n",
       "      <td>29</td>\n",
       "      <td>100.0</td>\n",
       "      <td>0</td>\n",
       "      <td>0.0</td>\n",
       "      <td>0.00000</td>\n",
       "      <td>...</td>\n",
       "      <td>0.0</td>\n",
       "      <td>235.0</td>\n",
       "      <td>0</td>\n",
       "      <td>0.0</td>\n",
       "      <td>0</td>\n",
       "      <td>0.00000</td>\n",
       "      <td>0</td>\n",
       "      <td>0.00000</td>\n",
       "      <td>0.0</td>\n",
       "      <td>0.000000</td>\n",
       "    </tr>\n",
       "    <tr>\n",
       "      <th>3</th>\n",
       "      <td>1235</td>\n",
       "      <td>Agrawal1</td>\n",
       "      <td>1000000.0</td>\n",
       "      <td>10</td>\n",
       "      <td>0.001000</td>\n",
       "      <td>6</td>\n",
       "      <td>60.0</td>\n",
       "      <td>4</td>\n",
       "      <td>40.0</td>\n",
       "      <td>9.00000</td>\n",
       "      <td>...</td>\n",
       "      <td>16.0</td>\n",
       "      <td>250101.0</td>\n",
       "      <td>0</td>\n",
       "      <td>0.0</td>\n",
       "      <td>0</td>\n",
       "      <td>0.00000</td>\n",
       "      <td>0</td>\n",
       "      <td>0.00000</td>\n",
       "      <td>0.0</td>\n",
       "      <td>0.000000</td>\n",
       "    </tr>\n",
       "    <tr>\n",
       "      <th>4</th>\n",
       "      <td>487</td>\n",
       "      <td>papir_2</td>\n",
       "      <td>30.0</td>\n",
       "      <td>41</td>\n",
       "      <td>136.667000</td>\n",
       "      <td>41</td>\n",
       "      <td>100.0</td>\n",
       "      <td>0</td>\n",
       "      <td>0.0</td>\n",
       "      <td>0.00000</td>\n",
       "      <td>...</td>\n",
       "      <td>0.0</td>\n",
       "      <td>23.0</td>\n",
       "      <td>0</td>\n",
       "      <td>0.0</td>\n",
       "      <td>0</td>\n",
       "      <td>0.00000</td>\n",
       "      <td>0</td>\n",
       "      <td>0.00000</td>\n",
       "      <td>0.0</td>\n",
       "      <td>0.000000</td>\n",
       "    </tr>\n",
       "  </tbody>\n",
       "</table>\n",
       "<p>5 rows × 25 columns</p>\n",
       "</div>"
      ],
      "text/plain": [
       "    did                                       dataset_name  num_instances  \\\n",
       "0    15                                           breast-w          699.0   \n",
       "1    21                                                car         1728.0   \n",
       "2  4540  ParkinsonSpeechDatasetwithMultipleTypesofSound...         1039.0   \n",
       "3  1235                                           Agrawal1      1000000.0   \n",
       "4   487                                            papir_2           30.0   \n",
       "\n",
       "   num_attributes  dimensionality  num_numeric_attr  pct_numeric_attr  \\\n",
       "0              10        1.430620                 9              90.0   \n",
       "1               7        0.405093                 0               0.0   \n",
       "2              29        2.791150                29             100.0   \n",
       "3              10        0.001000                 6              60.0   \n",
       "4              41      136.667000                41             100.0   \n",
       "\n",
       "   num_nominal_attr  pct_nominal_attr  avg_nominal_values  ...  \\\n",
       "0                 1              10.0             2.00000  ...   \n",
       "1                 7             100.0             3.57143  ...   \n",
       "2                 0               0.0             0.00000  ...   \n",
       "3                 4              40.0             9.00000  ...   \n",
       "4                 0               0.0             0.00000  ...   \n",
       "\n",
       "   min_numeric_mean  max_numeric_mean  missing_attr_cnt  missing_attr_pct  \\\n",
       "0               2.0               4.0                 1              10.0   \n",
       "1               0.0               0.0                 0               0.0   \n",
       "2               0.0             235.0                 0               0.0   \n",
       "3              16.0          250101.0                 0               0.0   \n",
       "4               0.0              23.0                 0               0.0   \n",
       "\n",
       "   missing_instances_max_cnt  missing_instances_max_pct  \\\n",
       "0                         16                    2.28898   \n",
       "1                          0                    0.00000   \n",
       "2                          0                    0.00000   \n",
       "3                          0                    0.00000   \n",
       "4                          0                    0.00000   \n",
       "\n",
       "   missing_instances_min_cnt  missing_instances_min_pct  \\\n",
       "0                         16                    2.28898   \n",
       "1                          0                    0.00000   \n",
       "2                          0                    0.00000   \n",
       "3                          0                    0.00000   \n",
       "4                          0                    0.00000   \n",
       "\n",
       "   missing_instances_mean  missing_instances_mean_pct  \n",
       "0                     1.6                    0.228898  \n",
       "1                     0.0                    0.000000  \n",
       "2                     0.0                    0.000000  \n",
       "3                     0.0                    0.000000  \n",
       "4                     0.0                    0.000000  \n",
       "\n",
       "[5 rows x 25 columns]"
      ]
     },
     "execution_count": 5,
     "metadata": {},
     "output_type": "execute_result"
    }
   ],
   "source": [
    "train_in.head()"
   ]
  },
  {
   "cell_type": "code",
   "execution_count": 6,
   "id": "e483fe22",
   "metadata": {},
   "outputs": [
    {
     "data": {
      "text/html": [
       "<div>\n",
       "<style scoped>\n",
       "    .dataframe tbody tr th:only-of-type {\n",
       "        vertical-align: middle;\n",
       "    }\n",
       "\n",
       "    .dataframe tbody tr th {\n",
       "        vertical-align: top;\n",
       "    }\n",
       "\n",
       "    .dataframe thead th {\n",
       "        text-align: right;\n",
       "    }\n",
       "</style>\n",
       "<table border=\"1\" class=\"dataframe\">\n",
       "  <thead>\n",
       "    <tr style=\"text-align: right;\">\n",
       "      <th></th>\n",
       "      <th>did1</th>\n",
       "      <th>did2</th>\n",
       "      <th>dataset_name1</th>\n",
       "      <th>dataset_name2</th>\n",
       "      <th>num_instances</th>\n",
       "      <th>num_attributes</th>\n",
       "      <th>dimensionality</th>\n",
       "      <th>num_numeric_attr</th>\n",
       "      <th>pct_numeric_attr</th>\n",
       "      <th>num_nominal_attr</th>\n",
       "      <th>...</th>\n",
       "      <th>missing_attr_cnt</th>\n",
       "      <th>missing_attr_pct</th>\n",
       "      <th>missing_instances_max_cnt</th>\n",
       "      <th>missing_instances_max_pct</th>\n",
       "      <th>missing_instances_min_cnt</th>\n",
       "      <th>missing_instances_min_pct</th>\n",
       "      <th>missing_instances_mean</th>\n",
       "      <th>missing_instances_mean_pct</th>\n",
       "      <th>datesets_subject_main_match</th>\n",
       "      <th>datesets_duplicates_match</th>\n",
       "    </tr>\n",
       "  </thead>\n",
       "  <tbody>\n",
       "    <tr>\n",
       "      <th>0</th>\n",
       "      <td>967</td>\n",
       "      <td>991</td>\n",
       "      <td>cars</td>\n",
       "      <td>car</td>\n",
       "      <td>0.765046</td>\n",
       "      <td>0.222222</td>\n",
       "      <td>0.817258</td>\n",
       "      <td>1.000000</td>\n",
       "      <td>1.000000</td>\n",
       "      <td>0.571429</td>\n",
       "      <td>...</td>\n",
       "      <td>1.0</td>\n",
       "      <td>1.000000</td>\n",
       "      <td>1.000000</td>\n",
       "      <td>1.00000</td>\n",
       "      <td>1.000000</td>\n",
       "      <td>1.000000</td>\n",
       "      <td>1.000000</td>\n",
       "      <td>1.000000</td>\n",
       "      <td>1</td>\n",
       "      <td>0</td>\n",
       "    </tr>\n",
       "    <tr>\n",
       "      <th>1</th>\n",
       "      <td>967</td>\n",
       "      <td>1092</td>\n",
       "      <td>cars</td>\n",
       "      <td>Crash</td>\n",
       "      <td>0.133005</td>\n",
       "      <td>0.357143</td>\n",
       "      <td>0.442646</td>\n",
       "      <td>0.142857</td>\n",
       "      <td>0.250000</td>\n",
       "      <td>0.500000</td>\n",
       "      <td>...</td>\n",
       "      <td>0.6</td>\n",
       "      <td>0.377778</td>\n",
       "      <td>0.878788</td>\n",
       "      <td>0.89491</td>\n",
       "      <td>0.333333</td>\n",
       "      <td>0.422003</td>\n",
       "      <td>0.800204</td>\n",
       "      <td>0.826778</td>\n",
       "      <td>1</td>\n",
       "      <td>0</td>\n",
       "    </tr>\n",
       "    <tr>\n",
       "      <th>2</th>\n",
       "      <td>967</td>\n",
       "      <td>1235</td>\n",
       "      <td>cars</td>\n",
       "      <td>Agrawal1</td>\n",
       "      <td>0.999594</td>\n",
       "      <td>0.100000</td>\n",
       "      <td>0.999549</td>\n",
       "      <td>0.000000</td>\n",
       "      <td>0.100000</td>\n",
       "      <td>0.250000</td>\n",
       "      <td>...</td>\n",
       "      <td>1.0</td>\n",
       "      <td>1.000000</td>\n",
       "      <td>1.000000</td>\n",
       "      <td>1.00000</td>\n",
       "      <td>1.000000</td>\n",
       "      <td>1.000000</td>\n",
       "      <td>1.000000</td>\n",
       "      <td>1.000000</td>\n",
       "      <td>0</td>\n",
       "      <td>0</td>\n",
       "    </tr>\n",
       "    <tr>\n",
       "      <th>3</th>\n",
       "      <td>967</td>\n",
       "      <td>1242</td>\n",
       "      <td>cars</td>\n",
       "      <td>vehicleNorm</td>\n",
       "      <td>0.995879</td>\n",
       "      <td>0.910891</td>\n",
       "      <td>0.953757</td>\n",
       "      <td>0.940000</td>\n",
       "      <td>0.326667</td>\n",
       "      <td>0.666667</td>\n",
       "      <td>...</td>\n",
       "      <td>1.0</td>\n",
       "      <td>1.000000</td>\n",
       "      <td>1.000000</td>\n",
       "      <td>1.00000</td>\n",
       "      <td>1.000000</td>\n",
       "      <td>1.000000</td>\n",
       "      <td>1.000000</td>\n",
       "      <td>1.000000</td>\n",
       "      <td>0</td>\n",
       "      <td>0</td>\n",
       "    </tr>\n",
       "    <tr>\n",
       "      <th>4</th>\n",
       "      <td>967</td>\n",
       "      <td>1169</td>\n",
       "      <td>cars</td>\n",
       "      <td>airlines</td>\n",
       "      <td>0.999247</td>\n",
       "      <td>0.111111</td>\n",
       "      <td>0.999331</td>\n",
       "      <td>0.500000</td>\n",
       "      <td>0.437500</td>\n",
       "      <td>0.400000</td>\n",
       "      <td>...</td>\n",
       "      <td>1.0</td>\n",
       "      <td>1.000000</td>\n",
       "      <td>1.000000</td>\n",
       "      <td>1.00000</td>\n",
       "      <td>1.000000</td>\n",
       "      <td>1.000000</td>\n",
       "      <td>1.000000</td>\n",
       "      <td>1.000000</td>\n",
       "      <td>0</td>\n",
       "      <td>0</td>\n",
       "    </tr>\n",
       "    <tr>\n",
       "      <th>5</th>\n",
       "      <td>967</td>\n",
       "      <td>5587</td>\n",
       "      <td>cars</td>\n",
       "      <td>COMET_MC</td>\n",
       "      <td>0.999947</td>\n",
       "      <td>0.333333</td>\n",
       "      <td>0.999965</td>\n",
       "      <td>0.000000</td>\n",
       "      <td>0.333333</td>\n",
       "      <td>1.000000</td>\n",
       "      <td>...</td>\n",
       "      <td>1.0</td>\n",
       "      <td>1.000000</td>\n",
       "      <td>1.000000</td>\n",
       "      <td>1.00000</td>\n",
       "      <td>1.000000</td>\n",
       "      <td>1.000000</td>\n",
       "      <td>1.000000</td>\n",
       "      <td>1.000000</td>\n",
       "      <td>0</td>\n",
       "      <td>0</td>\n",
       "    </tr>\n",
       "    <tr>\n",
       "      <th>6</th>\n",
       "      <td>967</td>\n",
       "      <td>5648</td>\n",
       "      <td>cars</td>\n",
       "      <td>COMET_MC</td>\n",
       "      <td>0.999947</td>\n",
       "      <td>0.333333</td>\n",
       "      <td>0.999965</td>\n",
       "      <td>0.000000</td>\n",
       "      <td>0.333333</td>\n",
       "      <td>1.000000</td>\n",
       "      <td>...</td>\n",
       "      <td>1.0</td>\n",
       "      <td>1.000000</td>\n",
       "      <td>1.000000</td>\n",
       "      <td>1.00000</td>\n",
       "      <td>1.000000</td>\n",
       "      <td>1.000000</td>\n",
       "      <td>1.000000</td>\n",
       "      <td>1.000000</td>\n",
       "      <td>0</td>\n",
       "      <td>0</td>\n",
       "    </tr>\n",
       "    <tr>\n",
       "      <th>7</th>\n",
       "      <td>967</td>\n",
       "      <td>5889</td>\n",
       "      <td>cars</td>\n",
       "      <td>COMET_MC</td>\n",
       "      <td>0.999947</td>\n",
       "      <td>0.333333</td>\n",
       "      <td>0.999965</td>\n",
       "      <td>0.000000</td>\n",
       "      <td>0.333333</td>\n",
       "      <td>1.000000</td>\n",
       "      <td>...</td>\n",
       "      <td>1.0</td>\n",
       "      <td>1.000000</td>\n",
       "      <td>1.000000</td>\n",
       "      <td>1.00000</td>\n",
       "      <td>1.000000</td>\n",
       "      <td>1.000000</td>\n",
       "      <td>1.000000</td>\n",
       "      <td>1.000000</td>\n",
       "      <td>0</td>\n",
       "      <td>0</td>\n",
       "    </tr>\n",
       "    <tr>\n",
       "      <th>8</th>\n",
       "      <td>967</td>\n",
       "      <td>1076</td>\n",
       "      <td>cars</td>\n",
       "      <td>nasa_numeric</td>\n",
       "      <td>0.770936</td>\n",
       "      <td>0.625000</td>\n",
       "      <td>0.914101</td>\n",
       "      <td>0.333333</td>\n",
       "      <td>0.750000</td>\n",
       "      <td>0.850000</td>\n",
       "      <td>...</td>\n",
       "      <td>1.0</td>\n",
       "      <td>1.000000</td>\n",
       "      <td>1.000000</td>\n",
       "      <td>1.00000</td>\n",
       "      <td>1.000000</td>\n",
       "      <td>1.000000</td>\n",
       "      <td>1.000000</td>\n",
       "      <td>1.000000</td>\n",
       "      <td>0</td>\n",
       "      <td>0</td>\n",
       "    </tr>\n",
       "    <tr>\n",
       "      <th>9</th>\n",
       "      <td>967</td>\n",
       "      <td>1068</td>\n",
       "      <td>cars</td>\n",
       "      <td>pc1</td>\n",
       "      <td>0.633904</td>\n",
       "      <td>0.590909</td>\n",
       "      <td>0.105100</td>\n",
       "      <td>0.714286</td>\n",
       "      <td>0.301587</td>\n",
       "      <td>0.666667</td>\n",
       "      <td>...</td>\n",
       "      <td>1.0</td>\n",
       "      <td>1.000000</td>\n",
       "      <td>1.000000</td>\n",
       "      <td>1.00000</td>\n",
       "      <td>1.000000</td>\n",
       "      <td>1.000000</td>\n",
       "      <td>1.000000</td>\n",
       "      <td>1.000000</td>\n",
       "      <td>0</td>\n",
       "      <td>0</td>\n",
       "    </tr>\n",
       "  </tbody>\n",
       "</table>\n",
       "<p>10 rows × 29 columns</p>\n",
       "</div>"
      ],
      "text/plain": [
       "   did1  did2 dataset_name1 dataset_name2  num_instances  num_attributes  \\\n",
       "0   967   991          cars           car       0.765046        0.222222   \n",
       "1   967  1092          cars         Crash       0.133005        0.357143   \n",
       "2   967  1235          cars      Agrawal1       0.999594        0.100000   \n",
       "3   967  1242          cars   vehicleNorm       0.995879        0.910891   \n",
       "4   967  1169          cars      airlines       0.999247        0.111111   \n",
       "5   967  5587          cars      COMET_MC       0.999947        0.333333   \n",
       "6   967  5648          cars      COMET_MC       0.999947        0.333333   \n",
       "7   967  5889          cars      COMET_MC       0.999947        0.333333   \n",
       "8   967  1076          cars  nasa_numeric       0.770936        0.625000   \n",
       "9   967  1068          cars           pc1       0.633904        0.590909   \n",
       "\n",
       "   dimensionality  num_numeric_attr  pct_numeric_attr  num_nominal_attr  ...  \\\n",
       "0        0.817258          1.000000          1.000000          0.571429  ...   \n",
       "1        0.442646          0.142857          0.250000          0.500000  ...   \n",
       "2        0.999549          0.000000          0.100000          0.250000  ...   \n",
       "3        0.953757          0.940000          0.326667          0.666667  ...   \n",
       "4        0.999331          0.500000          0.437500          0.400000  ...   \n",
       "5        0.999965          0.000000          0.333333          1.000000  ...   \n",
       "6        0.999965          0.000000          0.333333          1.000000  ...   \n",
       "7        0.999965          0.000000          0.333333          1.000000  ...   \n",
       "8        0.914101          0.333333          0.750000          0.850000  ...   \n",
       "9        0.105100          0.714286          0.301587          0.666667  ...   \n",
       "\n",
       "   missing_attr_cnt  missing_attr_pct  missing_instances_max_cnt  \\\n",
       "0               1.0          1.000000                   1.000000   \n",
       "1               0.6          0.377778                   0.878788   \n",
       "2               1.0          1.000000                   1.000000   \n",
       "3               1.0          1.000000                   1.000000   \n",
       "4               1.0          1.000000                   1.000000   \n",
       "5               1.0          1.000000                   1.000000   \n",
       "6               1.0          1.000000                   1.000000   \n",
       "7               1.0          1.000000                   1.000000   \n",
       "8               1.0          1.000000                   1.000000   \n",
       "9               1.0          1.000000                   1.000000   \n",
       "\n",
       "   missing_instances_max_pct  missing_instances_min_cnt  \\\n",
       "0                    1.00000                   1.000000   \n",
       "1                    0.89491                   0.333333   \n",
       "2                    1.00000                   1.000000   \n",
       "3                    1.00000                   1.000000   \n",
       "4                    1.00000                   1.000000   \n",
       "5                    1.00000                   1.000000   \n",
       "6                    1.00000                   1.000000   \n",
       "7                    1.00000                   1.000000   \n",
       "8                    1.00000                   1.000000   \n",
       "9                    1.00000                   1.000000   \n",
       "\n",
       "   missing_instances_min_pct  missing_instances_mean  \\\n",
       "0                   1.000000                1.000000   \n",
       "1                   0.422003                0.800204   \n",
       "2                   1.000000                1.000000   \n",
       "3                   1.000000                1.000000   \n",
       "4                   1.000000                1.000000   \n",
       "5                   1.000000                1.000000   \n",
       "6                   1.000000                1.000000   \n",
       "7                   1.000000                1.000000   \n",
       "8                   1.000000                1.000000   \n",
       "9                   1.000000                1.000000   \n",
       "\n",
       "   missing_instances_mean_pct  datesets_subject_main_match  \\\n",
       "0                    1.000000                            1   \n",
       "1                    0.826778                            1   \n",
       "2                    1.000000                            0   \n",
       "3                    1.000000                            0   \n",
       "4                    1.000000                            0   \n",
       "5                    1.000000                            0   \n",
       "6                    1.000000                            0   \n",
       "7                    1.000000                            0   \n",
       "8                    1.000000                            0   \n",
       "9                    1.000000                            0   \n",
       "\n",
       "   datesets_duplicates_match  \n",
       "0                          0  \n",
       "1                          0  \n",
       "2                          0  \n",
       "3                          0  \n",
       "4                          0  \n",
       "5                          0  \n",
       "6                          0  \n",
       "7                          0  \n",
       "8                          0  \n",
       "9                          0  \n",
       "\n",
       "[10 rows x 29 columns]"
      ]
     },
     "execution_count": 6,
     "metadata": {},
     "output_type": "execute_result"
    }
   ],
   "source": [
    "train_m.head(10)"
   ]
  },
  {
   "cell_type": "code",
   "execution_count": 7,
   "id": "676c699e",
   "metadata": {},
   "outputs": [
    {
     "data": {
      "text/html": [
       "<div>\n",
       "<style scoped>\n",
       "    .dataframe tbody tr th:only-of-type {\n",
       "        vertical-align: middle;\n",
       "    }\n",
       "\n",
       "    .dataframe tbody tr th {\n",
       "        vertical-align: top;\n",
       "    }\n",
       "\n",
       "    .dataframe thead th {\n",
       "        text-align: right;\n",
       "    }\n",
       "</style>\n",
       "<table border=\"1\" class=\"dataframe\">\n",
       "  <thead>\n",
       "    <tr style=\"text-align: right;\">\n",
       "      <th></th>\n",
       "      <th>did1</th>\n",
       "      <th>did2</th>\n",
       "      <th>dataset_name1</th>\n",
       "      <th>dataset_name2</th>\n",
       "      <th>num_instances</th>\n",
       "      <th>num_attributes</th>\n",
       "      <th>dimensionality</th>\n",
       "      <th>num_numeric_attr</th>\n",
       "      <th>pct_numeric_attr</th>\n",
       "      <th>num_nominal_attr</th>\n",
       "      <th>...</th>\n",
       "      <th>missing_attr_cnt</th>\n",
       "      <th>missing_attr_pct</th>\n",
       "      <th>missing_instances_max_cnt</th>\n",
       "      <th>missing_instances_max_pct</th>\n",
       "      <th>missing_instances_min_cnt</th>\n",
       "      <th>missing_instances_min_pct</th>\n",
       "      <th>missing_instances_mean</th>\n",
       "      <th>missing_instances_mean_pct</th>\n",
       "      <th>datesets_subject_main_match</th>\n",
       "      <th>datesets_duplicates_match</th>\n",
       "    </tr>\n",
       "  </thead>\n",
       "  <tbody>\n",
       "    <tr>\n",
       "      <th>0</th>\n",
       "      <td>171</td>\n",
       "      <td>185</td>\n",
       "      <td>primary-tumor</td>\n",
       "      <td>baseball</td>\n",
       "      <td>0.747015</td>\n",
       "      <td>0.0</td>\n",
       "      <td>0.747015</td>\n",
       "      <td>1.0</td>\n",
       "      <td>1.0</td>\n",
       "      <td>0.833333</td>\n",
       "      <td>...</td>\n",
       "      <td>0.8</td>\n",
       "      <td>0.8</td>\n",
       "      <td>0.870968</td>\n",
       "      <td>0.967357</td>\n",
       "      <td>0.95</td>\n",
       "      <td>0.80236</td>\n",
       "      <td>0.911111</td>\n",
       "      <td>0.977512</td>\n",
       "      <td>0</td>\n",
       "      <td>0</td>\n",
       "    </tr>\n",
       "  </tbody>\n",
       "</table>\n",
       "<p>1 rows × 29 columns</p>\n",
       "</div>"
      ],
      "text/plain": [
       "   did1  did2  dataset_name1 dataset_name2  num_instances  num_attributes  \\\n",
       "0   171   185  primary-tumor      baseball       0.747015             0.0   \n",
       "\n",
       "   dimensionality  num_numeric_attr  pct_numeric_attr  num_nominal_attr  ...  \\\n",
       "0        0.747015               1.0               1.0          0.833333  ...   \n",
       "\n",
       "   missing_attr_cnt  missing_attr_pct  missing_instances_max_cnt  \\\n",
       "0               0.8               0.8                   0.870968   \n",
       "\n",
       "   missing_instances_max_pct  missing_instances_min_cnt  \\\n",
       "0                   0.967357                       0.95   \n",
       "\n",
       "   missing_instances_min_pct  missing_instances_mean  \\\n",
       "0                    0.80236                0.911111   \n",
       "\n",
       "   missing_instances_mean_pct  datesets_subject_main_match  \\\n",
       "0                    0.977512                            0   \n",
       "\n",
       "   datesets_duplicates_match  \n",
       "0                          0  \n",
       "\n",
       "[1 rows x 29 columns]"
      ]
     },
     "execution_count": 7,
     "metadata": {},
     "output_type": "execute_result"
    }
   ],
   "source": [
    "test_m.head(1)"
   ]
  },
  {
   "cell_type": "markdown",
   "id": "3bb122c1",
   "metadata": {},
   "source": [
    "## Data Preprocessing"
   ]
  },
  {
   "cell_type": "markdown",
   "id": "edb8d5da",
   "metadata": {},
   "source": [
    "### Nulls and duplicated rows"
   ]
  },
  {
   "cell_type": "code",
   "execution_count": 8,
   "id": "2dd8dd7b",
   "metadata": {},
   "outputs": [
    {
     "data": {
      "text/plain": [
       "did                           0\n",
       "dataset_name                  0\n",
       "num_instances                 0\n",
       "num_attributes                0\n",
       "dimensionality                0\n",
       "num_numeric_attr              0\n",
       "pct_numeric_attr              0\n",
       "num_nominal_attr              0\n",
       "pct_nominal_attr              0\n",
       "avg_nominal_values            0\n",
       "sd_nominal_values             0\n",
       "min_nominal_values            0\n",
       "max_nominal_values            0\n",
       "avg_numeric_mean              0\n",
       "sd_numeric_mean               0\n",
       "min_numeric_mean              0\n",
       "max_numeric_mean              0\n",
       "missing_attr_cnt              0\n",
       "missing_attr_pct              0\n",
       "missing_instances_max_cnt     0\n",
       "missing_instances_max_pct     0\n",
       "missing_instances_min_cnt     0\n",
       "missing_instances_min_pct     0\n",
       "missing_instances_mean        0\n",
       "missing_instances_mean_pct    0\n",
       "dtype: int64"
      ]
     },
     "execution_count": 8,
     "metadata": {},
     "output_type": "execute_result"
    }
   ],
   "source": [
    "train_in.isnull().sum()"
   ]
  },
  {
   "cell_type": "code",
   "execution_count": 9,
   "id": "369e849b",
   "metadata": {},
   "outputs": [
    {
     "data": {
      "text/plain": [
       "did                           0\n",
       "dataset_name                  0\n",
       "num_instances                 0\n",
       "num_attributes                0\n",
       "dimensionality                0\n",
       "num_numeric_attr              0\n",
       "pct_numeric_attr              0\n",
       "num_nominal_attr              0\n",
       "pct_nominal_attr              0\n",
       "avg_nominal_values            0\n",
       "sd_nominal_values             0\n",
       "min_nominal_values            0\n",
       "max_nominal_values            0\n",
       "avg_numeric_mean              0\n",
       "sd_numeric_mean               0\n",
       "min_numeric_mean              0\n",
       "max_numeric_mean              0\n",
       "missing_attr_cnt              0\n",
       "missing_attr_pct              0\n",
       "missing_instances_max_cnt     0\n",
       "missing_instances_max_pct     0\n",
       "missing_instances_min_cnt     0\n",
       "missing_instances_min_pct     0\n",
       "missing_instances_mean        0\n",
       "missing_instances_mean_pct    0\n",
       "dtype: int64"
      ]
     },
     "execution_count": 9,
     "metadata": {},
     "output_type": "execute_result"
    }
   ],
   "source": [
    "test_in.isnull().sum()"
   ]
  },
  {
   "cell_type": "code",
   "execution_count": 10,
   "id": "2ecf2dfc",
   "metadata": {},
   "outputs": [
    {
     "data": {
      "text/plain": [
       "0"
      ]
     },
     "execution_count": 10,
     "metadata": {},
     "output_type": "execute_result"
    }
   ],
   "source": [
    "train_m.duplicated().sum()"
   ]
  },
  {
   "cell_type": "code",
   "execution_count": 11,
   "id": "de44a8d6",
   "metadata": {},
   "outputs": [
    {
     "data": {
      "text/plain": [
       "0"
      ]
     },
     "execution_count": 11,
     "metadata": {},
     "output_type": "execute_result"
    }
   ],
   "source": [
    "test_m.duplicated().sum()"
   ]
  },
  {
   "cell_type": "markdown",
   "id": "7cac89b0",
   "metadata": {},
   "source": [
    "### Dropping unnecessary columns"
   ]
  },
  {
   "cell_type": "code",
   "execution_count": 12,
   "id": "ff5eb183",
   "metadata": {},
   "outputs": [],
   "source": [
    "# drop the dataset name and id -> unuseful in training\n",
    "train_in.drop(['dataset_name','did'], inplace = True, axis=1)\n",
    "train_m.drop(['dataset_name1', 'dataset_name2','did1','did2'], inplace = True, axis=1)"
   ]
  },
  {
   "cell_type": "code",
   "execution_count": 13,
   "id": "42b6d21f",
   "metadata": {},
   "outputs": [],
   "source": [
    "test_in.drop(['dataset_name','did'], inplace = True, axis=1)\n",
    "test_m.drop(['dataset_name1', 'dataset_name2','did1','did2'], inplace = True, axis=1)"
   ]
  },
  {
   "cell_type": "code",
   "execution_count": 14,
   "id": "c586cab1",
   "metadata": {},
   "outputs": [
    {
     "data": {
      "text/plain": [
       "Index(['num_instances', 'num_attributes', 'dimensionality', 'num_numeric_attr',\n",
       "       'pct_numeric_attr', 'num_nominal_attr', 'pct_nominal_attr',\n",
       "       'avg_nominal_values', 'sd_nominal_values', 'min_nominal_values',\n",
       "       'max_nominal_values', 'avg_numeric_mean', 'sd_numeric_mean',\n",
       "       'min_numeric_mean', 'max_numeric_mean', 'missing_attr_cnt',\n",
       "       'missing_attr_pct', 'missing_instances_max_cnt',\n",
       "       'missing_instances_max_pct', 'missing_instances_min_cnt',\n",
       "       'missing_instances_min_pct', 'missing_instances_mean',\n",
       "       'missing_instances_mean_pct'],\n",
       "      dtype='object')"
      ]
     },
     "execution_count": 14,
     "metadata": {},
     "output_type": "execute_result"
    }
   ],
   "source": [
    "test_in.columns"
   ]
  },
  {
   "cell_type": "code",
   "execution_count": 15,
   "id": "ef23af39",
   "metadata": {},
   "outputs": [
    {
     "data": {
      "text/plain": [
       "Index(['num_instances', 'num_attributes', 'dimensionality', 'num_numeric_attr',\n",
       "       'pct_numeric_attr', 'num_nominal_attr', 'pct_nominal_attr',\n",
       "       'avg_nominal_values', 'sd_nominal_values', 'min_nominal_values',\n",
       "       'max_nominal_values', 'avg_numeric_mean', 'sd_numeric_mean',\n",
       "       'min_numeric_mean', 'max_numeric_mean', 'missing_attr_cnt',\n",
       "       'missing_attr_pct', 'missing_instances_max_cnt',\n",
       "       'missing_instances_max_pct', 'missing_instances_min_cnt',\n",
       "       'missing_instances_min_pct', 'missing_instances_mean',\n",
       "       'missing_instances_mean_pct', 'datesets_subject_main_match',\n",
       "       'datesets_duplicates_match'],\n",
       "      dtype='object')"
      ]
     },
     "execution_count": 15,
     "metadata": {},
     "output_type": "execute_result"
    }
   ],
   "source": [
    "train_m.columns"
   ]
  },
  {
   "cell_type": "code",
   "execution_count": 16,
   "id": "e33b9fea",
   "metadata": {},
   "outputs": [
    {
     "name": "stdout",
     "output_type": "stream",
     "text": [
      "Train dataset:  (8385, 25)\n",
      "Test dataset:  (22578, 25)\n"
     ]
    }
   ],
   "source": [
    "print('Train dataset: ' , train_m.shape)\n",
    "print('Test dataset: ' , test_m.shape)"
   ]
  },
  {
   "cell_type": "code",
   "execution_count": 17,
   "id": "5b4dd2fc",
   "metadata": {},
   "outputs": [
    {
     "name": "stdout",
     "output_type": "stream",
     "text": [
      "Main matches for Rel(d1,d2):\n",
      " 0    7180\n",
      "1    1205\n",
      "Name: datesets_subject_main_match, dtype: int64\n",
      "Duplicate matches for Dup(d1,d2):\n",
      " 0    8313\n",
      "1      72\n",
      "Name: datesets_duplicates_match, dtype: int64\n"
     ]
    }
   ],
   "source": [
    "# restricted -> training\n",
    "main_match = train_m[\"datesets_subject_main_match\"].value_counts()\n",
    "duplicates_match = train_m[\"datesets_duplicates_match\"].value_counts()\n",
    "\n",
    "print(\"Main matches for Rel(d1,d2):\\n\", main_match)\n",
    "print(\"Duplicate matches for Dup(d1,d2):\\n\", duplicates_match)"
   ]
  },
  {
   "cell_type": "markdown",
   "id": "986a4a44",
   "metadata": {},
   "source": [
    "The Problem here is **unbalanced data between 0 and 1 instances** in both columns \"datesets_subject_main_match\" and \"datesets_duplicates_match\""
   ]
  },
  {
   "cell_type": "code",
   "execution_count": 18,
   "id": "734ee5e0",
   "metadata": {},
   "outputs": [
    {
     "name": "stdout",
     "output_type": "stream",
     "text": [
      "Main matches for Rel(d1,d2):\n",
      " 0    22008\n",
      "1      570\n",
      "Name: datesets_subject_main_match, dtype: int64\n",
      "Duplicate matches for Dup(d1,d2):\n",
      " 0    22450\n",
      "1      128\n",
      "Name: datesets_duplicates_match, dtype: int64\n"
     ]
    }
   ],
   "source": [
    "# all topics -> testing\n",
    "main_match_t = test_m[\"datesets_subject_main_match\"].value_counts()\n",
    "duplicates_match_t = test_m[\"datesets_duplicates_match\"].value_counts()\n",
    "\n",
    "print(\"Main matches for Rel(d1,d2):\\n\", main_match_t)\n",
    "print(\"Duplicate matches for Dup(d1,d2):\\n\", duplicates_match_t)"
   ]
  },
  {
   "cell_type": "markdown",
   "id": "5c04e84d",
   "metadata": {},
   "source": [
    "These are the **actual testing value counts** for both instances 0 and 1 in the output columns."
   ]
  },
  {
   "cell_type": "markdown",
   "id": "f18d32ca",
   "metadata": {},
   "source": [
    "### Outliers"
   ]
  },
  {
   "cell_type": "code",
   "execution_count": 19,
   "id": "b2767484",
   "metadata": {},
   "outputs": [
    {
     "data": {
      "image/png": "[encoded data removed]",
      "text/plain": [
       "<Figure size 576x432 with 1 Axes>"
      ]
     },
     "metadata": {
      "needs_background": "light"
     },
     "output_type": "display_data"
    },
    {
     "data": {
      "image/png": "[encoded data removed]",
      "text/plain": [
       "<Figure size 576x432 with 1 Axes>"
      ]
     },
     "metadata": {
      "needs_background": "light"
     },
     "output_type": "display_data"
    },
    {
     "data": {
      "image/png": "[encoded data removed]",
      "text/plain": [
       "<Figure size 576x432 with 1 Axes>"
      ]
     },
     "metadata": {
      "needs_background": "light"
     },
     "output_type": "display_data"
    },
    {
     "data": {
      "image/png": "[encoded data removed]",
      "text/plain": [
       "<Figure size 576x432 with 1 Axes>"
      ]
     },
     "metadata": {
      "needs_background": "light"
     },
     "output_type": "display_data"
    },
    {
     "data": {
      "image/png": "[encoded data removed]",
      "text/plain": [
       "<Figure size 576x432 with 1 Axes>"
      ]
     },
     "metadata": {
      "needs_background": "light"
     },
     "output_type": "display_data"
    },
    {
     "data": {
      "image/png": "[encoded data removed]",
      "text/plain": [
       "<Figure size 576x432 with 1 Axes>"
      ]
     },
     "metadata": {
      "needs_background": "light"
     },
     "output_type": "display_data"
    },
    {
     "data": {
      "image/png": "[encoded data removed]",
      "text/plain": [
       "<Figure size 576x432 with 1 Axes>"
      ]
     },
     "metadata": {
      "needs_background": "light"
     },
     "output_type": "display_data"
    },
    {
     "data": {
      "image/png": "[encoded data removed]",
      "text/plain": [
       "<Figure size 576x432 with 1 Axes>"
      ]
     },
     "metadata": {
      "needs_background": "light"
     },
     "output_type": "display_data"
    },
    {
     "data": {
      "image/png": "[encoded data removed]",
      "text/plain": [
       "<Figure size 576x432 with 1 Axes>"
      ]
     },
     "metadata": {
      "needs_background": "light"
     },
     "output_type": "display_data"
    },
    {
     "data": {
      "image/png": "[encoded data removed]",
      "text/plain": [
       "<Figure size 576x432 with 1 Axes>"
      ]
     },
     "metadata": {
      "needs_background": "light"
     },
     "output_type": "display_data"
    },
    {
     "data": {
      "image/png": "[encoded data removed]",
      "text/plain": [
       "<Figure size 576x432 with 1 Axes>"
      ]
     },
     "metadata": {
      "needs_background": "light"
     },
     "output_type": "display_data"
    },
    {
     "data": {
      "image/png": "[encoded data removed]",
      "text/plain": [
       "<Figure size 576x432 with 1 Axes>"
      ]
     },
     "metadata": {
      "needs_background": "light"
     },
     "output_type": "display_data"
    },
    {
     "data": {
      "image/png": "[encoded data removed]",
      "text/plain": [
       "<Figure size 576x432 with 1 Axes>"
      ]
     },
     "metadata": {
      "needs_background": "light"
     },
     "output_type": "display_data"
    },
    {
     "data": {
      "image/png": "[encoded data removed]",
      "text/plain": [
       "<Figure size 576x432 with 1 Axes>"
      ]
     },
     "metadata": {
      "needs_background": "light"
     },
     "output_type": "display_data"
    },
    {
     "data": {
      "image/png": "[encoded data removed]",
      "text/plain": [
       "<Figure size 576x432 with 1 Axes>"
      ]
     },
     "metadata": {
      "needs_background": "light"
     },
     "output_type": "display_data"
    },
    {
     "data": {
      "image/png": "[encoded data removed]",
      "text/plain": [
       "<Figure size 576x432 with 1 Axes>"
      ]
     },
     "metadata": {
      "needs_background": "light"
     },
     "output_type": "display_data"
    },
    {
     "data": {
      "image/png": "[encoded data removed]",
      "text/plain": [
       "<Figure size 576x432 with 1 Axes>"
      ]
     },
     "metadata": {
      "needs_background": "light"
     },
     "output_type": "display_data"
    },
    {
     "data": {
      "image/png": "[encoded data removed]",
      "text/plain": [
       "<Figure size 576x432 with 1 Axes>"
      ]
     },
     "metadata": {
      "needs_background": "light"
     },
     "output_type": "display_data"
    },
    {
     "data": {
      "image/png": "[encoded data removed]",
      "text/plain": [
       "<Figure size 576x432 with 1 Axes>"
      ]
     },
     "metadata": {
      "needs_background": "light"
     },
     "output_type": "display_data"
    },
    {
     "data": {
      "image/png": "[encoded data removed]",
      "text/plain": [
       "<Figure size 576x432 with 1 Axes>"
      ]
     },
     "metadata": {
      "needs_background": "light"
     },
     "output_type": "display_data"
    },
    {
     "data": {
      "image/png": "[encoded data removed]",
      "text/plain": [
       "<Figure size 576x432 with 1 Axes>"
      ]
     },
     "metadata": {
      "needs_background": "light"
     },
     "output_type": "display_data"
    },
    {
     "data": {
      "image/png": "[encoded data removed]",
      "text/plain": [
       "<Figure size 576x432 with 1 Axes>"
      ]
     },
     "metadata": {
      "needs_background": "light"
     },
     "output_type": "display_data"
    },
    {
     "data": {
      "image/png": "[encoded data removed]",
      "text/plain": [
       "<Figure size 576x432 with 1 Axes>"
      ]
     },
     "metadata": {
      "needs_background": "light"
     },
     "output_type": "display_data"
    },
    {
     "data": {
      "image/png": "[encoded data removed]",
      "text/plain": [
       "<Figure size 576x432 with 1 Axes>"
      ]
     },
     "metadata": {
      "needs_background": "light"
     },
     "output_type": "display_data"
    },
    {
     "data": {
      "image/png": "[encoded data removed]",
      "text/plain": [
       "<Figure size 576x432 with 1 Axes>"
      ]
     },
     "metadata": {
      "needs_background": "light"
     },
     "output_type": "display_data"
    }
   ],
   "source": [
    "import pandas as pd\n",
    "import matplotlib.pyplot as plt\n",
    "import seaborn as sns\n",
    "\n",
    "def detect_outliers(df):\n",
    "    outliers_count = {}\n",
    "    \n",
    "    for column in df.columns:\n",
    "        data = df[column]\n",
    "        q1 = data.quantile(0.25)\n",
    "        q3 = data.quantile(0.75)\n",
    "        iqr = q3 - q1\n",
    "        lower_bound = q1 - 1.5 * iqr\n",
    "        upper_bound = q3 + 1.5 * iqr\n",
    "        \n",
    "        outliers = data[(data < lower_bound) | (data > upper_bound)]\n",
    "        outliers_count[column] = len(outliers)\n",
    "        \n",
    "        plt.figure(figsize=(8, 6))\n",
    "        sns.boxplot(x=data)\n",
    "        plt.title(f'Boxplot of {column}')\n",
    "        plt.show()\n",
    "        \n",
    "    return outliers_count\n",
    "\n",
    "outliers = detect_outliers(train_m)"
   ]
  },
  {
   "cell_type": "code",
   "execution_count": 20,
   "id": "2b4d80bb",
   "metadata": {},
   "outputs": [
    {
     "name": "stdout",
     "output_type": "stream",
     "text": [
      "The number of outliers in each column are:  {'num_instances': 64, 'num_attributes': 0, 'dimensionality': 0, 'num_numeric_attr': 0, 'pct_numeric_attr': 0, 'num_nominal_attr': 0, 'pct_nominal_attr': 0, 'avg_nominal_values': 0, 'sd_nominal_values': 0, 'min_nominal_values': 0, 'max_nominal_values': 0, 'avg_numeric_mean': 1030, 'sd_numeric_mean': 1271, 'min_numeric_mean': 0, 'max_numeric_mean': 1210, 'missing_attr_cnt': 0, 'missing_attr_pct': 0, 'missing_instances_max_cnt': 0, 'missing_instances_max_pct': 0, 'missing_instances_min_cnt': 0, 'missing_instances_min_pct': 0, 'missing_instances_mean': 0, 'missing_instances_mean_pct': 0, 'datesets_subject_main_match': 1205, 'datesets_duplicates_match': 72}\n"
     ]
    }
   ],
   "source": [
    "print(\"The number of outliers in each column are: \" ,outliers)"
   ]
  },
  {
   "cell_type": "markdown",
   "id": "5233b812",
   "metadata": {},
   "source": [
    "Most of the columns are free from outliers but the We **will not remove the few columns that have outliers** as these outliers might have a **significant meaning** in the data instead of it being wrong values."
   ]
  },
  {
   "cell_type": "markdown",
   "id": "a268ba10",
   "metadata": {},
   "source": [
    "### trial 1 -> Unsupervised Kmeans clustering algorithm for generating Rel(d1,d2) and Dup(d1,d2)"
   ]
  },
  {
   "cell_type": "code",
   "execution_count": 21,
   "id": "c6e449c2",
   "metadata": {},
   "outputs": [
    {
     "data": {
      "image/png": "[encoded data removed]",
      "text/plain": [
       "<Figure size 432x288 with 1 Axes>"
      ]
     },
     "metadata": {
      "needs_background": "light"
     },
     "output_type": "display_data"
    }
   ],
   "source": [
    "from sklearn.cluster import KMeans\n",
    "\n",
    "# We try out different number of clusters incrementally\n",
    "\n",
    "wcss = []\n",
    "for i in range(1, 10):\n",
    "    km = KMeans(n_clusters=i, init='k-means++', max_iter=300, n_init=10, random_state=0)\n",
    "    km.fit(train_m)\n",
    "    wcss.append(km.inertia_)\n",
    "    \n",
    "plt.plot(range(1, 10), wcss, marker='o', color='red')\n",
    "plt.title('The Elbow Method', fontsize = 20)\n",
    "plt.xlabel('No. of Clusters')\n",
    "plt.ylabel('wcss')\n",
    "plt.show()"
   ]
  },
  {
   "cell_type": "markdown",
   "id": "b778f150",
   "metadata": {},
   "source": [
    " We pick the elbow of the curve as the number of clusters to use as the elbow method plots the value of the cost function produced by different values of k so we choose the value that **minimizes** this function, **which is k=2.**"
   ]
  },
  {
   "cell_type": "code",
   "execution_count": 22,
   "id": "8f9fc5a9",
   "metadata": {},
   "outputs": [
    {
     "name": "stdout",
     "output_type": "stream",
     "text": [
      "[0 0 0 ... 1 1 1]\n",
      "[0 0 0 ... 1 1 1]\n"
     ]
    },
    {
     "data": {
      "text/html": [
       "<div>\n",
       "<style scoped>\n",
       "    .dataframe tbody tr th:only-of-type {\n",
       "        vertical-align: middle;\n",
       "    }\n",
       "\n",
       "    .dataframe tbody tr th {\n",
       "        vertical-align: top;\n",
       "    }\n",
       "\n",
       "    .dataframe thead th {\n",
       "        text-align: right;\n",
       "    }\n",
       "</style>\n",
       "<table border=\"1\" class=\"dataframe\">\n",
       "  <thead>\n",
       "    <tr style=\"text-align: right;\">\n",
       "      <th></th>\n",
       "      <th>num_instances</th>\n",
       "      <th>num_attributes</th>\n",
       "      <th>dimensionality</th>\n",
       "      <th>num_numeric_attr</th>\n",
       "      <th>pct_numeric_attr</th>\n",
       "      <th>num_nominal_attr</th>\n",
       "      <th>pct_nominal_attr</th>\n",
       "      <th>avg_nominal_values</th>\n",
       "      <th>sd_nominal_values</th>\n",
       "      <th>min_nominal_values</th>\n",
       "      <th>...</th>\n",
       "      <th>missing_instances_max_cnt</th>\n",
       "      <th>missing_instances_max_pct</th>\n",
       "      <th>missing_instances_min_cnt</th>\n",
       "      <th>missing_instances_min_pct</th>\n",
       "      <th>missing_instances_mean</th>\n",
       "      <th>missing_instances_mean_pct</th>\n",
       "      <th>datesets_subject_main_match</th>\n",
       "      <th>datesets_duplicates_match</th>\n",
       "      <th>cluster_duplicates</th>\n",
       "      <th>cluster_subject_main</th>\n",
       "    </tr>\n",
       "  </thead>\n",
       "  <tbody>\n",
       "    <tr>\n",
       "      <th>8375</th>\n",
       "      <td>0.558824</td>\n",
       "      <td>0.687500</td>\n",
       "      <td>0.291667</td>\n",
       "      <td>0.733333</td>\n",
       "      <td>0.146667</td>\n",
       "      <td>0.000000</td>\n",
       "      <td>0.687500</td>\n",
       "      <td>0.933333</td>\n",
       "      <td>0.0</td>\n",
       "      <td>0.933333</td>\n",
       "      <td>...</td>\n",
       "      <td>0.0</td>\n",
       "      <td>0.0</td>\n",
       "      <td>0.0</td>\n",
       "      <td>0.0</td>\n",
       "      <td>0.0</td>\n",
       "      <td>0.0</td>\n",
       "      <td>1</td>\n",
       "      <td>0</td>\n",
       "      <td>1</td>\n",
       "      <td>1</td>\n",
       "    </tr>\n",
       "    <tr>\n",
       "      <th>8376</th>\n",
       "      <td>0.974227</td>\n",
       "      <td>0.848485</td>\n",
       "      <td>0.829897</td>\n",
       "      <td>0.878788</td>\n",
       "      <td>0.200000</td>\n",
       "      <td>1.000000</td>\n",
       "      <td>1.000000</td>\n",
       "      <td>1.000000</td>\n",
       "      <td>0.0</td>\n",
       "      <td>1.000000</td>\n",
       "      <td>...</td>\n",
       "      <td>0.0</td>\n",
       "      <td>0.0</td>\n",
       "      <td>0.0</td>\n",
       "      <td>0.0</td>\n",
       "      <td>0.0</td>\n",
       "      <td>0.0</td>\n",
       "      <td>0</td>\n",
       "      <td>0</td>\n",
       "      <td>1</td>\n",
       "      <td>1</td>\n",
       "    </tr>\n",
       "    <tr>\n",
       "      <th>8377</th>\n",
       "      <td>0.500000</td>\n",
       "      <td>0.666667</td>\n",
       "      <td>0.833333</td>\n",
       "      <td>0.733333</td>\n",
       "      <td>0.200000</td>\n",
       "      <td>1.000000</td>\n",
       "      <td>1.000000</td>\n",
       "      <td>1.000000</td>\n",
       "      <td>0.0</td>\n",
       "      <td>1.000000</td>\n",
       "      <td>...</td>\n",
       "      <td>0.0</td>\n",
       "      <td>0.0</td>\n",
       "      <td>0.0</td>\n",
       "      <td>0.0</td>\n",
       "      <td>0.0</td>\n",
       "      <td>0.0</td>\n",
       "      <td>0</td>\n",
       "      <td>0</td>\n",
       "      <td>1</td>\n",
       "      <td>1</td>\n",
       "    </tr>\n",
       "    <tr>\n",
       "      <th>8378</th>\n",
       "      <td>0.006623</td>\n",
       "      <td>0.285714</td>\n",
       "      <td>0.280952</td>\n",
       "      <td>0.500000</td>\n",
       "      <td>0.642857</td>\n",
       "      <td>0.800000</td>\n",
       "      <td>0.720000</td>\n",
       "      <td>0.827586</td>\n",
       "      <td>1.0</td>\n",
       "      <td>0.000000</td>\n",
       "      <td>...</td>\n",
       "      <td>0.0</td>\n",
       "      <td>0.0</td>\n",
       "      <td>0.0</td>\n",
       "      <td>0.0</td>\n",
       "      <td>0.0</td>\n",
       "      <td>0.0</td>\n",
       "      <td>0</td>\n",
       "      <td>0</td>\n",
       "      <td>1</td>\n",
       "      <td>1</td>\n",
       "    </tr>\n",
       "    <tr>\n",
       "      <th>8379</th>\n",
       "      <td>0.573333</td>\n",
       "      <td>0.978261</td>\n",
       "      <td>0.990725</td>\n",
       "      <td>1.000000</td>\n",
       "      <td>1.000000</td>\n",
       "      <td>0.995652</td>\n",
       "      <td>0.800000</td>\n",
       "      <td>0.000000</td>\n",
       "      <td>0.0</td>\n",
       "      <td>0.000000</td>\n",
       "      <td>...</td>\n",
       "      <td>0.0</td>\n",
       "      <td>0.0</td>\n",
       "      <td>0.0</td>\n",
       "      <td>0.0</td>\n",
       "      <td>0.0</td>\n",
       "      <td>0.0</td>\n",
       "      <td>0</td>\n",
       "      <td>0</td>\n",
       "      <td>1</td>\n",
       "      <td>1</td>\n",
       "    </tr>\n",
       "    <tr>\n",
       "      <th>8380</th>\n",
       "      <td>0.573333</td>\n",
       "      <td>0.979424</td>\n",
       "      <td>0.991221</td>\n",
       "      <td>1.000000</td>\n",
       "      <td>1.000000</td>\n",
       "      <td>0.995885</td>\n",
       "      <td>0.800000</td>\n",
       "      <td>0.000000</td>\n",
       "      <td>0.0</td>\n",
       "      <td>0.000000</td>\n",
       "      <td>...</td>\n",
       "      <td>0.0</td>\n",
       "      <td>0.0</td>\n",
       "      <td>0.0</td>\n",
       "      <td>0.0</td>\n",
       "      <td>0.0</td>\n",
       "      <td>0.0</td>\n",
       "      <td>0</td>\n",
       "      <td>0</td>\n",
       "      <td>1</td>\n",
       "      <td>1</td>\n",
       "    </tr>\n",
       "    <tr>\n",
       "      <th>8381</th>\n",
       "      <td>0.997000</td>\n",
       "      <td>0.978355</td>\n",
       "      <td>0.861400</td>\n",
       "      <td>0.979167</td>\n",
       "      <td>0.037500</td>\n",
       "      <td>0.974359</td>\n",
       "      <td>0.155844</td>\n",
       "      <td>0.998909</td>\n",
       "      <td>1.0</td>\n",
       "      <td>0.500000</td>\n",
       "      <td>...</td>\n",
       "      <td>1.0</td>\n",
       "      <td>1.0</td>\n",
       "      <td>1.0</td>\n",
       "      <td>1.0</td>\n",
       "      <td>1.0</td>\n",
       "      <td>1.0</td>\n",
       "      <td>0</td>\n",
       "      <td>0</td>\n",
       "      <td>0</td>\n",
       "      <td>0</td>\n",
       "    </tr>\n",
       "    <tr>\n",
       "      <th>8382</th>\n",
       "      <td>0.999499</td>\n",
       "      <td>0.880952</td>\n",
       "      <td>0.995790</td>\n",
       "      <td>0.692308</td>\n",
       "      <td>0.613095</td>\n",
       "      <td>0.965517</td>\n",
       "      <td>0.710345</td>\n",
       "      <td>0.854271</td>\n",
       "      <td>1.0</td>\n",
       "      <td>0.000000</td>\n",
       "      <td>...</td>\n",
       "      <td>0.0</td>\n",
       "      <td>0.0</td>\n",
       "      <td>0.0</td>\n",
       "      <td>0.0</td>\n",
       "      <td>0.0</td>\n",
       "      <td>0.0</td>\n",
       "      <td>0</td>\n",
       "      <td>0</td>\n",
       "      <td>1</td>\n",
       "      <td>1</td>\n",
       "    </tr>\n",
       "    <tr>\n",
       "      <th>8383</th>\n",
       "      <td>0.996216</td>\n",
       "      <td>0.918033</td>\n",
       "      <td>0.953839</td>\n",
       "      <td>0.933333</td>\n",
       "      <td>0.186667</td>\n",
       "      <td>0.000000</td>\n",
       "      <td>0.918033</td>\n",
       "      <td>0.999950</td>\n",
       "      <td>0.0</td>\n",
       "      <td>0.999950</td>\n",
       "      <td>...</td>\n",
       "      <td>0.0</td>\n",
       "      <td>0.0</td>\n",
       "      <td>0.0</td>\n",
       "      <td>0.0</td>\n",
       "      <td>0.0</td>\n",
       "      <td>0.0</td>\n",
       "      <td>0</td>\n",
       "      <td>0</td>\n",
       "      <td>1</td>\n",
       "      <td>1</td>\n",
       "    </tr>\n",
       "    <tr>\n",
       "      <th>8384</th>\n",
       "      <td>0.997460</td>\n",
       "      <td>0.500000</td>\n",
       "      <td>0.994919</td>\n",
       "      <td>0.600000</td>\n",
       "      <td>0.200000</td>\n",
       "      <td>1.000000</td>\n",
       "      <td>1.000000</td>\n",
       "      <td>1.000000</td>\n",
       "      <td>0.0</td>\n",
       "      <td>1.000000</td>\n",
       "      <td>...</td>\n",
       "      <td>0.0</td>\n",
       "      <td>0.0</td>\n",
       "      <td>0.0</td>\n",
       "      <td>0.0</td>\n",
       "      <td>0.0</td>\n",
       "      <td>0.0</td>\n",
       "      <td>0</td>\n",
       "      <td>0</td>\n",
       "      <td>1</td>\n",
       "      <td>1</td>\n",
       "    </tr>\n",
       "  </tbody>\n",
       "</table>\n",
       "<p>10 rows × 27 columns</p>\n",
       "</div>"
      ],
      "text/plain": [
       "      num_instances  num_attributes  dimensionality  num_numeric_attr  \\\n",
       "8375       0.558824        0.687500        0.291667          0.733333   \n",
       "8376       0.974227        0.848485        0.829897          0.878788   \n",
       "8377       0.500000        0.666667        0.833333          0.733333   \n",
       "8378       0.006623        0.285714        0.280952          0.500000   \n",
       "8379       0.573333        0.978261        0.990725          1.000000   \n",
       "8380       0.573333        0.979424        0.991221          1.000000   \n",
       "8381       0.997000        0.978355        0.861400          0.979167   \n",
       "8382       0.999499        0.880952        0.995790          0.692308   \n",
       "8383       0.996216        0.918033        0.953839          0.933333   \n",
       "8384       0.997460        0.500000        0.994919          0.600000   \n",
       "\n",
       "      pct_numeric_attr  num_nominal_attr  pct_nominal_attr  \\\n",
       "8375          0.146667          0.000000          0.687500   \n",
       "8376          0.200000          1.000000          1.000000   \n",
       "8377          0.200000          1.000000          1.000000   \n",
       "8378          0.642857          0.800000          0.720000   \n",
       "8379          1.000000          0.995652          0.800000   \n",
       "8380          1.000000          0.995885          0.800000   \n",
       "8381          0.037500          0.974359          0.155844   \n",
       "8382          0.613095          0.965517          0.710345   \n",
       "8383          0.186667          0.000000          0.918033   \n",
       "8384          0.200000          1.000000          1.000000   \n",
       "\n",
       "      avg_nominal_values  sd_nominal_values  min_nominal_values  ...  \\\n",
       "8375            0.933333                0.0            0.933333  ...   \n",
       "8376            1.000000                0.0            1.000000  ...   \n",
       "8377            1.000000                0.0            1.000000  ...   \n",
       "8378            0.827586                1.0            0.000000  ...   \n",
       "8379            0.000000                0.0            0.000000  ...   \n",
       "8380            0.000000                0.0            0.000000  ...   \n",
       "8381            0.998909                1.0            0.500000  ...   \n",
       "8382            0.854271                1.0            0.000000  ...   \n",
       "8383            0.999950                0.0            0.999950  ...   \n",
       "8384            1.000000                0.0            1.000000  ...   \n",
       "\n",
       "      missing_instances_max_cnt  missing_instances_max_pct  \\\n",
       "8375                        0.0                        0.0   \n",
       "8376                        0.0                        0.0   \n",
       "8377                        0.0                        0.0   \n",
       "8378                        0.0                        0.0   \n",
       "8379                        0.0                        0.0   \n",
       "8380                        0.0                        0.0   \n",
       "8381                        1.0                        1.0   \n",
       "8382                        0.0                        0.0   \n",
       "8383                        0.0                        0.0   \n",
       "8384                        0.0                        0.0   \n",
       "\n",
       "      missing_instances_min_cnt  missing_instances_min_pct  \\\n",
       "8375                        0.0                        0.0   \n",
       "8376                        0.0                        0.0   \n",
       "8377                        0.0                        0.0   \n",
       "8378                        0.0                        0.0   \n",
       "8379                        0.0                        0.0   \n",
       "8380                        0.0                        0.0   \n",
       "8381                        1.0                        1.0   \n",
       "8382                        0.0                        0.0   \n",
       "8383                        0.0                        0.0   \n",
       "8384                        0.0                        0.0   \n",
       "\n",
       "      missing_instances_mean  missing_instances_mean_pct  \\\n",
       "8375                     0.0                         0.0   \n",
       "8376                     0.0                         0.0   \n",
       "8377                     0.0                         0.0   \n",
       "8378                     0.0                         0.0   \n",
       "8379                     0.0                         0.0   \n",
       "8380                     0.0                         0.0   \n",
       "8381                     1.0                         1.0   \n",
       "8382                     0.0                         0.0   \n",
       "8383                     0.0                         0.0   \n",
       "8384                     0.0                         0.0   \n",
       "\n",
       "      datesets_subject_main_match  datesets_duplicates_match  \\\n",
       "8375                            1                          0   \n",
       "8376                            0                          0   \n",
       "8377                            0                          0   \n",
       "8378                            0                          0   \n",
       "8379                            0                          0   \n",
       "8380                            0                          0   \n",
       "8381                            0                          0   \n",
       "8382                            0                          0   \n",
       "8383                            0                          0   \n",
       "8384                            0                          0   \n",
       "\n",
       "      cluster_duplicates  cluster_subject_main  \n",
       "8375                   1                     1  \n",
       "8376                   1                     1  \n",
       "8377                   1                     1  \n",
       "8378                   1                     1  \n",
       "8379                   1                     1  \n",
       "8380                   1                     1  \n",
       "8381                   0                     0  \n",
       "8382                   1                     1  \n",
       "8383                   1                     1  \n",
       "8384                   1                     1  \n",
       "\n",
       "[10 rows x 27 columns]"
      ]
     },
     "execution_count": 22,
     "metadata": {},
     "output_type": "execute_result"
    }
   ],
   "source": [
    "km_duplicates = KMeans(n_clusters=2, init='k-means++', max_iter=300, n_init=20, random_state=0)\n",
    "km_duplicates.fit(train_m)\n",
    "\n",
    "# Get the cluster labels for 'datesets_duplicates_match'\n",
    "labels_duplicates = km_duplicates.labels_\n",
    "print(labels_duplicates)\n",
    "\n",
    "# Assign the cluster labels to a new column called 'cluster_duplicates' in the original dataframe\n",
    "df_m = train_m.copy()\n",
    "df_m['cluster_duplicates'] = labels_duplicates\n",
    "\n",
    "# Clustering for 'datesets_subject_main_match'\n",
    "km_subject_main = KMeans(n_clusters=2, init='k-means++', max_iter=300, n_init=20, random_state=0)\n",
    "km_subject_main.fit(train_m)\n",
    "\n",
    "# Get the cluster labels for 'datesets_subject_main_match'\n",
    "labels_subject_main = km_subject_main.labels_\n",
    "print(labels_subject_main)\n",
    "\n",
    "# Assign the cluster labels to a new column called 'cluster_subject_main' in the original dataframe\n",
    "df_m['cluster_subject_main'] = labels_subject_main\n",
    "\n",
    "\n",
    "df_m.tail(10)"
   ]
  },
  {
   "cell_type": "code",
   "execution_count": 23,
   "id": "b0b523b3",
   "metadata": {},
   "outputs": [
    {
     "data": {
      "text/plain": [
       "1    0.517591\n",
       "0    0.482409\n",
       "Name: cluster_subject_main, dtype: float64"
      ]
     },
     "execution_count": 23,
     "metadata": {},
     "output_type": "execute_result"
    }
   ],
   "source": [
    "df_m['cluster_subject_main'].value_counts(normalize=True)"
   ]
  },
  {
   "cell_type": "markdown",
   "id": "cfb20b6d",
   "metadata": {},
   "source": [
    "New proportions for the 0 and 1 instnaces **after clustering**"
   ]
  },
  {
   "cell_type": "code",
   "execution_count": 24,
   "id": "521df6e3",
   "metadata": {},
   "outputs": [
    {
     "data": {
      "text/plain": [
       "1    0.517591\n",
       "0    0.482409\n",
       "Name: cluster_duplicates, dtype: float64"
      ]
     },
     "execution_count": 24,
     "metadata": {},
     "output_type": "execute_result"
    }
   ],
   "source": [
    "df_m['cluster_duplicates'].value_counts(normalize=True)"
   ]
  },
  {
   "cell_type": "markdown",
   "id": "23502986",
   "metadata": {},
   "source": [
    "vs the **original data proportions for the 0 and 1 instances** in both columns \"datesets_subject_main_match\" and \"datesets_duplicates_match\""
   ]
  },
  {
   "cell_type": "code",
   "execution_count": 25,
   "id": "33cf85fd",
   "metadata": {},
   "outputs": [
    {
     "name": "stdout",
     "output_type": "stream",
     "text": [
      "Cluster purities Related for 0 and 1:  [1.0, 1.0]\n",
      "Cluster purities Duplicated for 0 and 1:  [1.0, 1.0]\n"
     ]
    }
   ],
   "source": [
    "# Evaluate Cluster Purity: the extent to which each cluster contains predominantly one class of the target variable\n",
    "def calculate_cluster_purity(cluster_labels, target_variable):\n",
    "    num_clusters = np.unique(cluster_labels).shape[0]\n",
    "    cluster_purities = []\n",
    "    \n",
    "    for cluster_label in range(num_clusters):\n",
    "        cluster_indices = np.where(cluster_labels == cluster_label)[0]\n",
    "        cluster_target_values = target_variable[cluster_indices]\n",
    "        \n",
    "        unique_classes, class_counts = np.unique(cluster_target_values, return_counts=True)\n",
    "        majority_class_index = np.argmax(class_counts)\n",
    "        majority_class_count = class_counts[majority_class_index]\n",
    "        cluster_purity = majority_class_count / len(cluster_indices)\n",
    "        \n",
    "        cluster_purities.append(cluster_purity)\n",
    "    \n",
    "    return cluster_purities\n",
    "\n",
    "cluster_purities_rel = calculate_cluster_purity(labels_subject_main, df_m['cluster_subject_main'])\n",
    "print(\"Cluster purities Related for 0 and 1: \",cluster_purities_rel)\n",
    "\n",
    "cluster_purities_dup = calculate_cluster_purity(labels_duplicates, df_m['cluster_duplicates'])\n",
    "print(\"Cluster purities Duplicated for 0 and 1: \",cluster_purities_dup)"
   ]
  },
  {
   "cell_type": "markdown",
   "id": "8985756b",
   "metadata": {},
   "source": [
    "*Cluster Purity* -> evaluates the clustering algorithm's performance in **separating the data into distinct groups that align with the distribution of the target variable.** It helps assess the level of agreement between the cluster assignments and the true labels. It calculates the cluster purity based on the **majority class in each cluster** and tells if each class or instance is very pure or not."
   ]
  },
  {
   "cell_type": "markdown",
   "id": "2bbddb7e",
   "metadata": {},
   "source": [
    "For this clustering algorithm the classes were in fact very pure and well seperated."
   ]
  },
  {
   "cell_type": "code",
   "execution_count": 26,
   "id": "c5a1fcb9",
   "metadata": {},
   "outputs": [
    {
     "data": {
      "text/plain": [
       "1    4340\n",
       "0    4045\n",
       "Name: cluster_duplicates, dtype: int64"
      ]
     },
     "execution_count": 26,
     "metadata": {},
     "output_type": "execute_result"
    }
   ],
   "source": [
    "df_m['cluster_duplicates'].value_counts()"
   ]
  },
  {
   "cell_type": "code",
   "execution_count": 27,
   "id": "a2af8b3f",
   "metadata": {},
   "outputs": [
    {
     "data": {
      "text/plain": [
       "1    4340\n",
       "0    4045\n",
       "Name: cluster_subject_main, dtype: int64"
      ]
     },
     "execution_count": 27,
     "metadata": {},
     "output_type": "execute_result"
    }
   ],
   "source": [
    "df_m['cluster_subject_main'].value_counts()"
   ]
  },
  {
   "cell_type": "code",
   "execution_count": 28,
   "id": "3eb38099",
   "metadata": {},
   "outputs": [
    {
     "name": "stdout",
     "output_type": "stream",
     "text": [
      "1    13490\n",
      "0     9088\n",
      "Name: cluster_subject_main, dtype: int64\n",
      "1    13490\n",
      "0     9088\n",
      "Name: cluster_duplicates, dtype: int64\n"
     ]
    }
   ],
   "source": [
    "# testing\n",
    "test_d = test_m.copy()\n",
    "\n",
    "# Predict clusters for 'test_data' using the 'km_duplicates' model\n",
    "test_labels_duplicates = km_duplicates.predict(test_d)\n",
    "\n",
    "# Predict clusters for 'test_data' using the 'km_subject_main' model\n",
    "test_labels_subject_main = km_subject_main.predict(test_d)\n",
    "\n",
    "# Assuming your test dataframe is stored in a variable called 'test_df'\n",
    "\n",
    "# Assign the cluster labels to a new column called 'cluster_duplicates' in the test dataframe\n",
    "test_d['cluster_duplicates'] = test_labels_duplicates\n",
    "\n",
    "# Assign the cluster labels to a new column called 'cluster_subject_main' in the test dataframe\n",
    "test_d['cluster_subject_main'] = test_labels_subject_main\n",
    "\n",
    "print(test_d['cluster_subject_main'].value_counts())\n",
    "print(test_d['cluster_duplicates'].value_counts())"
   ]
  },
  {
   "cell_type": "code",
   "execution_count": 29,
   "id": "4ff574c7",
   "metadata": {},
   "outputs": [],
   "source": [
    "# original data\n",
    "# Main matches for Rel(d1,d2):\n",
    "#  0    22008\n",
    "# 1      570\n",
    "# Name: datesets_subject_main_match, dtype: int64\n",
    "# Duplicate matches for Dup(d1,d2):\n",
    "#  0    22450\n",
    "# 1      128\n",
    "# Name: datesets_duplicates_match, dtype: int64"
   ]
  },
  {
   "cell_type": "code",
   "execution_count": 30,
   "id": "98f3448e",
   "metadata": {},
   "outputs": [
    {
     "data": {
      "image/png": "[encoded data removed]",
      "text/plain": [
       "<Figure size 576x432 with 2 Axes>"
      ]
     },
     "metadata": {
      "needs_background": "light"
     },
     "output_type": "display_data"
    }
   ],
   "source": [
    "cm = confusion_matrix(test_d[\"datesets_duplicates_match\"], test_d['cluster_duplicates'])\n",
    "plt.figure(figsize=(8, 6))\n",
    "sns.heatmap(cm, annot=True, fmt=\"d\")\n",
    "plt.title(\"Confusion Matrix for Kmeans Clustering Dup(d1,d2)\")\n",
    "plt.xlabel(\"Predicted Labels\")\n",
    "plt.ylabel(\"True Labels\")\n",
    "plt.show()"
   ]
  },
  {
   "cell_type": "code",
   "execution_count": 31,
   "id": "bbde93eb",
   "metadata": {},
   "outputs": [
    {
     "data": {
      "image/png": "[encoded data removed]",
      "text/plain": [
       "<Figure size 576x432 with 2 Axes>"
      ]
     },
     "metadata": {
      "needs_background": "light"
     },
     "output_type": "display_data"
    }
   ],
   "source": [
    "cm = confusion_matrix(test_d[\"datesets_subject_main_match\"], test_d['cluster_subject_main'])\n",
    "plt.figure(figsize=(8, 6))\n",
    "sns.heatmap(cm, annot=True, fmt=\"d\")\n",
    "plt.title(\"Confusion Matrix for Kmeans Clustering Rel(d1,d2)\")\n",
    "plt.xlabel(\"Predicted Labels\")\n",
    "plt.ylabel(\"True Labels\")\n",
    "plt.show()"
   ]
  },
  {
   "cell_type": "markdown",
   "id": "4f2710b3",
   "metadata": {},
   "source": [
    "The results in this trial **were very far from the actual results** as we can tell from the **very high False Positives (FP) and False Negatives (FN)** in the confusion matrix."
   ]
  },
  {
   "cell_type": "code",
   "execution_count": 32,
   "id": "71934c2c",
   "metadata": {},
   "outputs": [
    {
     "name": "stdout",
     "output_type": "stream",
     "text": [
      "Metrics for kmeans clustering on 'cluster_duplicates'\n",
      "Accuracy: 0.40783063158827176\n",
      "Precision: 0.009191994069681245\n",
      "Recall: 0.96875\n",
      "F1-score: 0.018211191070641796\n"
     ]
    }
   ],
   "source": [
    "#For the \"datesets_duplicates_match\" clustering\n",
    "\n",
    "# Calculate metrics for 'cluster_duplicates'\n",
    "accuracy_duplicates = accuracy_score(test_d[\"datesets_duplicates_match\"], test_d['cluster_duplicates'])\n",
    "precision_duplicates = precision_score(test_d[\"datesets_duplicates_match\"], test_d['cluster_duplicates'])\n",
    "recall_duplicates = recall_score(test_d[\"datesets_duplicates_match\"], test_d['cluster_duplicates'])\n",
    "f1_score_duplicates = f1_score(test_d[\"datesets_duplicates_match\"], test_d['cluster_duplicates'])\n",
    "\n",
    "print(\"Metrics for kmeans clustering on 'cluster_duplicates'\")\n",
    "print(\"Accuracy:\", accuracy_duplicates)\n",
    "print(\"Precision:\", precision_duplicates)\n",
    "print(\"Recall:\", recall_duplicates)\n",
    "print(\"F1-score:\", f1_score_duplicates)"
   ]
  },
  {
   "cell_type": "code",
   "execution_count": 33,
   "id": "10895981",
   "metadata": {},
   "outputs": [
    {
     "name": "stdout",
     "output_type": "stream",
     "text": [
      "Metrics for kmeans clustering on 'cluster_subject_main'\n",
      "Accuracy: 0.4137656125431836\n",
      "Precision: 0.030541141586360267\n",
      "Recall: 0.7228070175438597\n",
      "F1-score: 0.05860597439544809\n"
     ]
    }
   ],
   "source": [
    "# Calculate metrics for 'cluster_subject_main'\n",
    "accuracy_subject_main = accuracy_score(test_d[\"datesets_subject_main_match\"], test_d['cluster_subject_main'])\n",
    "precision_subject_main = precision_score(test_d[\"datesets_subject_main_match\"], test_d['cluster_subject_main'])\n",
    "recall_subject_main = recall_score(test_d[\"datesets_subject_main_match\"], test_d['cluster_subject_main'])\n",
    "f1_score_subject_main = f1_score(test_d[\"datesets_subject_main_match\"], test_d['cluster_subject_main'])\n",
    "\n",
    "print(\"Metrics for kmeans clustering on 'cluster_subject_main'\")\n",
    "print(\"Accuracy:\", accuracy_subject_main)\n",
    "print(\"Precision:\", precision_subject_main)\n",
    "print(\"Recall:\", recall_subject_main)\n",
    "print(\"F1-score:\", f1_score_subject_main)"
   ]
  },
  {
   "cell_type": "markdown",
   "id": "c5f884ab",
   "metadata": {},
   "source": [
    "### trial 2 -> Stratification on both columns \"datesets_subject_main_match\" and \"datesets_duplicates_match\""
   ]
  },
  {
   "cell_type": "code",
   "execution_count": 32,
   "id": "536506f9",
   "metadata": {},
   "outputs": [],
   "source": [
    "# Rel\n",
    "X_rel = df_m.drop(columns = [\"datesets_duplicates_match\",\"datesets_subject_main_match\"])\n",
    "y_rel = df_m[\"datesets_subject_main_match\"]\n",
    "X_trainR, X_testR, y_trainR, y_testR = train_test_split(X_rel, y_rel, train_size=0.8, stratify=y_rel)\n",
    "\n",
    "# Dup\n",
    "X_dup = df_m.drop(columns = [\"datesets_subject_main_match\",\"datesets_duplicates_match\"])\n",
    "y_dup = df_m[\"datesets_duplicates_match\"]\n",
    "x_trainD, x_testD, y_trainD, y_testD = train_test_split(X_dup, y_dup, train_size=0.8, stratify=y_dup)"
   ]
  },
  {
   "cell_type": "code",
   "execution_count": 33,
   "id": "131180de",
   "metadata": {},
   "outputs": [
    {
     "data": {
      "text/plain": [
       "0    0.856291\n",
       "1    0.143709\n",
       "Name: datesets_subject_main_match, dtype: float64"
      ]
     },
     "execution_count": 33,
     "metadata": {},
     "output_type": "execute_result"
    }
   ],
   "source": [
    "y_trainR.value_counts(normalize=True)"
   ]
  },
  {
   "cell_type": "code",
   "execution_count": 34,
   "id": "a0fb3a2b",
   "metadata": {},
   "outputs": [
    {
     "data": {
      "text/plain": [
       "0    0.991354\n",
       "1    0.008646\n",
       "Name: datesets_duplicates_match, dtype: float64"
      ]
     },
     "execution_count": 34,
     "metadata": {},
     "output_type": "execute_result"
    }
   ],
   "source": [
    "y_trainD.value_counts(normalize=True)"
   ]
  },
  {
   "cell_type": "markdown",
   "id": "19fef3a8",
   "metadata": {},
   "source": [
    "These results show that since the dataset was stratified on the y label. So with that we will achieve **the same proportion as the population proportion.**"
   ]
  },
  {
   "cell_type": "code",
   "execution_count": 35,
   "id": "e4433a5e",
   "metadata": {},
   "outputs": [
    {
     "data": {
      "text/plain": [
       "0    6650\n",
       "1      58\n",
       "Name: datesets_duplicates_match, dtype: int64"
      ]
     },
     "execution_count": 35,
     "metadata": {},
     "output_type": "execute_result"
    }
   ],
   "source": [
    "y_trainD.value_counts()"
   ]
  },
  {
   "cell_type": "code",
   "execution_count": 36,
   "id": "0f6dfecd",
   "metadata": {},
   "outputs": [
    {
     "data": {
      "text/plain": [
       "0    5744\n",
       "1     964\n",
       "Name: datesets_subject_main_match, dtype: int64"
      ]
     },
     "execution_count": 36,
     "metadata": {},
     "output_type": "execute_result"
    }
   ],
   "source": [
    "y_trainR.value_counts()"
   ]
  },
  {
   "cell_type": "markdown",
   "id": "29d92989",
   "metadata": {},
   "source": [
    "An improvement than the results of without stratification as now the **instance 1 is closer to instance 0** in sample size than before."
   ]
  },
  {
   "cell_type": "code",
   "execution_count": 37,
   "id": "fd38c2ff",
   "metadata": {},
   "outputs": [
    {
     "name": "stdout",
     "output_type": "stream",
     "text": [
      "Validation Accuracy for Random Forest Classifier - Dup(d1,d2): 0.9976147883124628\n",
      "Precision for Random Forest Classifier - Dup(d1,d2): 1.0\n",
      "Recall for Random Forest Classifier - Dup(d1,d2): 0.7142857142857143\n",
      "F1 score for Random Forest Classifier - Dup(d1,d2): 0.8333333333333333\n"
     ]
    }
   ],
   "source": [
    "# Training Random forest classifier for dataset_duplicates_match column -  dup(d1,d2)\n",
    "\n",
    "rf1 = RandomForestClassifier()\n",
    "\n",
    "rf1.fit(x_trainD, y_trainD)\n",
    "\n",
    "y1_pred = rf1.predict(x_testD)\n",
    "\n",
    "accuracy1 = accuracy_score(y_testD, y1_pred)\n",
    "precision1 = precision_score(y_testD, y1_pred)\n",
    "recall1 = recall_score(y_testD, y1_pred)\n",
    "f1_sc = f1_score(y_testD, y1_pred)\n",
    "\n",
    "print(\"Validation Accuracy for Random Forest Classifier - Dup(d1,d2):\", accuracy1)\n",
    "print(\"Precision for Random Forest Classifier - Dup(d1,d2):\", precision1)\n",
    "print(\"Recall for Random Forest Classifier - Dup(d1,d2):\", recall1)\n",
    "print(\"F1 score for Random Forest Classifier - Dup(d1,d2):\", f1_sc)"
   ]
  },
  {
   "cell_type": "code",
   "execution_count": 38,
   "id": "b4ed51a8",
   "metadata": {},
   "outputs": [
    {
     "name": "stdout",
     "output_type": "stream",
     "text": [
      "Validation Accuracy for Random Forest Classifier - Rel(d1,d2): 0.9463327370304114\n",
      "Precision for Random Forest Classifier - Rel(d1,d2): 0.9631901840490797\n",
      "Recall for Random Forest Classifier - Rel(d1,d2): 0.6514522821576764\n",
      "F1 score for Random Forest Classifier - Rel(d1,d2): 0.7772277227722773\n"
     ]
    }
   ],
   "source": [
    "# Random forest classifier for datesets_subject_main_match column  -  Rel(d1,d2)\n",
    "\n",
    "rf2 = RandomForestClassifier()\n",
    "\n",
    "rf2.fit(X_trainR, y_trainR)\n",
    "\n",
    "y2_pred = rf2.predict(X_testR)\n",
    "\n",
    "accuracy2 = accuracy_score(y_testR, y2_pred)\n",
    "precision2 = precision_score(y_testR, y2_pred)\n",
    "recall2 = recall_score(y_testR, y2_pred)\n",
    "f1_sc2 = f1_score(y_testR, y2_pred)\n",
    "\n",
    "print(\"Validation Accuracy for Random Forest Classifier - Rel(d1,d2):\", accuracy2)\n",
    "print(\"Precision for Random Forest Classifier - Rel(d1,d2):\", precision2)\n",
    "print(\"Recall for Random Forest Classifier - Rel(d1,d2):\", recall2)\n",
    "print(\"F1 score for Random Forest Classifier - Rel(d1,d2):\", f1_sc2)"
   ]
  },
  {
   "cell_type": "code",
   "execution_count": 39,
   "id": "6e36e396",
   "metadata": {},
   "outputs": [
    {
     "data": {
      "image/png": "[encoded data removed]",
      "text/plain": [
       "<Figure size 576x432 with 2 Axes>"
      ]
     },
     "metadata": {
      "needs_background": "light"
     },
     "output_type": "display_data"
    }
   ],
   "source": [
    "cm = confusion_matrix(y_testD, y1_pred)\n",
    "plt.figure(figsize=(8, 6))\n",
    "sns.heatmap(cm, annot=True, fmt=\"d\")\n",
    "plt.title(\"Confusion Matrix for KNN Classifier Dup(d1,d2)\")\n",
    "plt.xlabel(\"Predicted Labels\")\n",
    "plt.ylabel(\"True Labels\")\n",
    "plt.show()"
   ]
  },
  {
   "cell_type": "code",
   "execution_count": 40,
   "id": "2214f41e",
   "metadata": {},
   "outputs": [
    {
     "data": {
      "image/png": "[encoded data removed]",
      "text/plain": [
       "<Figure size 576x432 with 2 Axes>"
      ]
     },
     "metadata": {
      "needs_background": "light"
     },
     "output_type": "display_data"
    }
   ],
   "source": [
    "# testing\n",
    "cm = confusion_matrix(y_testR, y2_pred)\n",
    "plt.figure(figsize=(8, 6))\n",
    "sns.heatmap(cm, annot=True, fmt=\"d\")\n",
    "plt.title(\"Confusion Matrix for KNN Classifier Rel(d1,d2)\")\n",
    "plt.xlabel(\"Predicted Labels\")\n",
    "plt.ylabel(\"True Labels\")\n",
    "plt.show()"
   ]
  },
  {
   "cell_type": "markdown",
   "id": "06724ae1",
   "metadata": {},
   "source": [
    "Here the results were **much improved** as there is a **significantly lower False Positives and Negatives** than the trial before."
   ]
  },
  {
   "cell_type": "code",
   "execution_count": 41,
   "id": "32099306",
   "metadata": {},
   "outputs": [
    {
     "name": "stderr",
     "output_type": "stream",
     "text": [
      "C:\\Users\\nadin\\anaconda3\\envs\\tensorf_gpu\\lib\\site-packages\\sklearn\\base.py:493: FutureWarning: The feature names should match those that were passed during fit. Starting version 1.2, an error will be raised.\n",
      "Feature names unseen at fit time:\n",
      "- datesets_duplicates_match\n",
      "- datesets_subject_main_match\n",
      "Feature names seen at fit time, yet now missing:\n",
      "- cluster_duplicates\n",
      "- cluster_subject_main\n",
      "\n",
      "  warnings.warn(message, FutureWarning)\n",
      "C:\\Users\\nadin\\anaconda3\\envs\\tensorf_gpu\\lib\\site-packages\\sklearn\\base.py:493: FutureWarning: The feature names should match those that were passed during fit. Starting version 1.2, an error will be raised.\n",
      "Feature names unseen at fit time:\n",
      "- datesets_duplicates_match\n",
      "- datesets_subject_main_match\n",
      "Feature names seen at fit time, yet now missing:\n",
      "- cluster_duplicates\n",
      "- cluster_subject_main\n",
      "\n",
      "  warnings.warn(message, FutureWarning)\n"
     ]
    },
    {
     "name": "stdout",
     "output_type": "stream",
     "text": [
      "0    22329\n",
      "1      249\n",
      "Name: Rel_match, dtype: int64\n",
      "0    22528\n",
      "1       50\n",
      "Name: Dup_match, dtype: int64\n"
     ]
    }
   ],
   "source": [
    "new_test = test_m.copy()\n",
    "\n",
    "yd_pred_test = rf1.predict(new_test)  # Dup(d1,d2)\n",
    "ym_pred_test = rf2.predict(new_test)  # Rel(d1,d2)\n",
    "\n",
    "new_test[\"Dup_match\"] = yd_pred_test\n",
    "new_test[\"Rel_match\"] = ym_pred_test\n",
    "\n",
    "print(new_test[\"Rel_match\"].value_counts())\n",
    "print(new_test[\"Dup_match\"].value_counts())"
   ]
  },
  {
   "cell_type": "code",
   "execution_count": 42,
   "id": "4e6922ca",
   "metadata": {},
   "outputs": [],
   "source": [
    "# original data\n",
    "# Main matches for Rel(d1,d2):\n",
    "#  0    22008\n",
    "# 1      570\n",
    "# Name: datesets_subject_main_match, dtype: int64\n",
    "# Duplicate matches for Dup(d1,d2):\n",
    "#  0    22450\n",
    "# 1      128\n",
    "# Name: datesets_duplicates_match, dtype: int64"
   ]
  },
  {
   "cell_type": "markdown",
   "id": "fe38ac05",
   "metadata": {},
   "source": [
    "### trial 3 -> Clustering then Stratification"
   ]
  },
  {
   "cell_type": "code",
   "execution_count": 43,
   "id": "293a283c",
   "metadata": {},
   "outputs": [],
   "source": [
    "# Perform clustering on the 'Related' and 'Duplicated' columns\n",
    "columns_to_cluster = ['datesets_subject_main_match', 'datesets_duplicates_match']\n",
    "df_temp = df_m.copy()\n",
    "X = df_temp[columns_to_cluster]\n",
    "\n",
    "kmeans = KMeans(n_clusters=2, random_state=42)\n",
    "cluster_labels = kmeans.fit_predict(X)\n",
    "\n",
    "df_temp['Cluster'] = cluster_labels\n",
    "\n",
    "# Determine the target sample size for double stratified sampling\n",
    "target_sample_size = 8385  # Adjust this value as per your requirements\n",
    "\n",
    "# Calculate the proportions of each cluster\n",
    "cluster_counts = df_temp['Cluster'].value_counts()\n",
    "proportions = cluster_counts / cluster_counts.sum()\n",
    "\n",
    "# Calculate the subgroup sample sizes for double stratified sampling\n",
    "sample_size_0 = int(np.ceil(proportions[0] * target_sample_size))\n",
    "sample_size_1 = int(np.ceil(proportions[1] * target_sample_size))\n",
    "\n",
    "# Perform double stratified sampling\n",
    "sampled_data = pd.DataFrame()\n",
    "\n",
    "for cluster_label in [0, 1]:\n",
    "    cluster_df = df_temp[df_temp['Cluster'] == cluster_label]\n",
    "    subgroup_sample_size = sample_size_0 if cluster_label == 0 else sample_size_1\n",
    "    sampled_subgroup = cluster_df.sample(n=subgroup_sample_size, replace=True, random_state=42)\n",
    "    sampled_data = pd.concat([sampled_data, sampled_subgroup])\n",
    "\n",
    "# Perform stratification on the 0 instances only\n",
    "stratified_sample_0 = sampled_data[sampled_data['datesets_subject_main_match'] == 0].sample(n=target_sample_size, replace=True, random_state=42)\n",
    "\n",
    "# stratified_sample_0 contains the stratified sample of 0 instances only\n"
   ]
  },
  {
   "cell_type": "code",
   "execution_count": 44,
   "id": "e72a898f",
   "metadata": {},
   "outputs": [
    {
     "data": {
      "text/plain": [
       "0    7180\n",
       "1    1205\n",
       "Name: datesets_subject_main_match, dtype: int64"
      ]
     },
     "execution_count": 44,
     "metadata": {},
     "output_type": "execute_result"
    }
   ],
   "source": [
    "sampled_data['datesets_subject_main_match'].value_counts()"
   ]
  },
  {
   "cell_type": "code",
   "execution_count": 45,
   "id": "1e1746f5",
   "metadata": {},
   "outputs": [
    {
     "data": {
      "text/plain": [
       "0    8305\n",
       "1      80\n",
       "Name: datesets_duplicates_match, dtype: int64"
      ]
     },
     "execution_count": 45,
     "metadata": {},
     "output_type": "execute_result"
    }
   ],
   "source": [
    "sampled_data['datesets_duplicates_match'].value_counts()"
   ]
  },
  {
   "cell_type": "markdown",
   "id": "e222a849",
   "metadata": {},
   "source": [
    "**No significant improvement in the unbalanced problem** for the dataset upon stratifying the 0 instances only."
   ]
  },
  {
   "cell_type": "markdown",
   "id": "ca1d15da",
   "metadata": {},
   "source": [
    "# Classification Models"
   ]
  },
  {
   "cell_type": "markdown",
   "id": "2d810379",
   "metadata": {},
   "source": [
    "### trial 4 -> Over Sampling only"
   ]
  },
  {
   "cell_type": "code",
   "execution_count": 46,
   "id": "8583cc52",
   "metadata": {},
   "outputs": [],
   "source": [
    "# Define the feature matrix and output labels\n",
    "X = train_m.drop(['datesets_subject_main_match', 'datesets_duplicates_match'], axis=1)\n",
    "y_rel = train_m['datesets_subject_main_match']\n",
    "y_dup = train_m['datesets_duplicates_match']\n",
    "\n",
    "# Apply SMOTE for oversampling\n",
    "smote = SMOTE(random_state=42)\n",
    "\n",
    "X_train_resampledR, y_train_resampledR = smote.fit_resample(X, y_rel)\n",
    "X_train_resampledD, y_train_resampledD = smote.fit_resample(X, y_dup)\n",
    "\n",
    "# Apply train-test split again for resampled data\n",
    "x_train_res_rel, x_test_res_rel, y_train_res_rel, y_test_res_rel = train_test_split(X_train_resampledR, y_train_resampledR, test_size=0.2, random_state=42)\n",
    "x_train_res_dup, x_test_res_dup, y_train_res_dup, y_test_res_dup = train_test_split(X_train_resampledD, y_train_resampledD, test_size=0.2, random_state=42)\n"
   ]
  },
  {
   "cell_type": "code",
   "execution_count": 47,
   "id": "41f1932b",
   "metadata": {},
   "outputs": [
    {
     "data": {
      "text/plain": [
       "0    5766\n",
       "1    5722\n",
       "Name: datesets_subject_main_match, dtype: int64"
      ]
     },
     "execution_count": 47,
     "metadata": {},
     "output_type": "execute_result"
    }
   ],
   "source": [
    "y_train_res_rel.value_counts()"
   ]
  },
  {
   "cell_type": "code",
   "execution_count": 48,
   "id": "5c49390d",
   "metadata": {},
   "outputs": [
    {
     "data": {
      "text/plain": [
       "1    6694\n",
       "0    6606\n",
       "Name: datesets_duplicates_match, dtype: int64"
      ]
     },
     "execution_count": 48,
     "metadata": {},
     "output_type": "execute_result"
    }
   ],
   "source": [
    "y_train_res_dup.value_counts()"
   ]
  },
  {
   "cell_type": "markdown",
   "id": "7fe4487e",
   "metadata": {},
   "source": [
    "**Results were enhanced as the 1 and 0 instances became more balanced in both columns** hence we'll train and test the model that we chose which is **Random Forest Classifier**"
   ]
  },
  {
   "cell_type": "code",
   "execution_count": 49,
   "id": "c7689aba",
   "metadata": {},
   "outputs": [
    {
     "name": "stdout",
     "output_type": "stream",
     "text": [
      "Validation Accuracy for Random Forest Classifier - Dup(d1,d2): 1.0\n",
      "Precision for Random Forest Classifier - Dup(d1,d2): 1.0\n",
      "Recall for Random Forest Classifier - Dup(d1,d2): 1.0\n",
      "F1 score for Random Forest Classifier - Dup(d1,d2): 1.0\n"
     ]
    }
   ],
   "source": [
    "# Training Random forest classifier for dataset_duplicates_match column -  dup(d1,d2)\n",
    "\n",
    "rf_Dup = RandomForestClassifier()\n",
    "\n",
    "rf_Dup.fit(x_train_res_dup, y_train_res_dup)\n",
    "\n",
    "y1_pred = rf_Dup.predict(x_test_res_dup)\n",
    "\n",
    "accuracy1 = accuracy_score(y_test_res_dup, y1_pred)\n",
    "precision1 = precision_score(y_test_res_dup, y1_pred)\n",
    "recall1 = recall_score(y_test_res_dup, y1_pred)\n",
    "f1_score1 = f1_score(y_test_res_dup, y1_pred)\n",
    "\n",
    "print(\"Validation Accuracy for Random Forest Classifier - Dup(d1,d2):\", accuracy1)\n",
    "print(\"Precision for Random Forest Classifier - Dup(d1,d2):\", precision1)\n",
    "print(\"Recall for Random Forest Classifier - Dup(d1,d2):\", recall1)\n",
    "print(\"F1 score for Random Forest Classifier - Dup(d1,d2):\", f1_score1)"
   ]
  },
  {
   "cell_type": "code",
   "execution_count": 50,
   "id": "9ccd2259",
   "metadata": {},
   "outputs": [
    {
     "name": "stdout",
     "output_type": "stream",
     "text": [
      "Prediction Counts for Dup(d1,d2) after oversampling:\n",
      " 0    1707\n",
      "1    1619\n",
      "dtype: int64\n"
     ]
    }
   ],
   "source": [
    "y1_pred_counts = pd.Series(y1_pred).value_counts()\n",
    "print('Prediction Counts for Dup(d1,d2) after oversampling:\\n',y1_pred_counts)"
   ]
  },
  {
   "cell_type": "code",
   "execution_count": 51,
   "id": "58a4a31f",
   "metadata": {},
   "outputs": [
    {
     "name": "stdout",
     "output_type": "stream",
     "text": [
      "Validation Accuracy for Random Forest Classifier - Rel(d1,d2): 0.9571727019498607\n",
      "Precision for Random Forest Classifier - Rel(d1,d2): 0.9658060013956734\n",
      "Recall for Random Forest Classifier - Rel(d1,d2): 0.9492455418381345\n",
      "F1 score for Random Forest Classifier - Rel(d1,d2): 0.9574541681079212\n"
     ]
    }
   ],
   "source": [
    "# Random forest classifier for datesets_subject_main_match column  -  Rel(d1,d2)\n",
    "\n",
    "rf_Rel = RandomForestClassifier()\n",
    "\n",
    "rf_Rel.fit(x_train_res_rel, y_train_res_rel)\n",
    "\n",
    "y2_pred = rf_Rel.predict(x_test_res_rel)\n",
    "\n",
    "accuracy2 = accuracy_score(y_test_res_rel, y2_pred)\n",
    "precision2 = precision_score(y_test_res_rel, y2_pred)\n",
    "recall2 = recall_score(y_test_res_rel, y2_pred)\n",
    "f1_score2 = f1_score(y_test_res_rel, y2_pred)\n",
    "\n",
    "print(\"Validation Accuracy for Random Forest Classifier - Rel(d1,d2):\", accuracy2)\n",
    "print(\"Precision for Random Forest Classifier - Rel(d1,d2):\", precision2)\n",
    "print(\"Recall for Random Forest Classifier - Rel(d1,d2):\", recall2)\n",
    "print(\"F1 score for Random Forest Classifier - Rel(d1,d2):\", f1_score2)"
   ]
  },
  {
   "cell_type": "code",
   "execution_count": 52,
   "id": "1540b670",
   "metadata": {},
   "outputs": [
    {
     "name": "stdout",
     "output_type": "stream",
     "text": [
      "Prediction Counts for Dup(d1,d2) after oversampling: \n",
      " 0    1439\n",
      "1    1433\n",
      "dtype: int64\n"
     ]
    }
   ],
   "source": [
    "y2_pred_counts = pd.Series(y2_pred).value_counts()\n",
    "print('Prediction Counts for Dup(d1,d2) after oversampling: \\n', y2_pred_counts)"
   ]
  },
  {
   "cell_type": "code",
   "execution_count": 53,
   "id": "8b674595",
   "metadata": {},
   "outputs": [
    {
     "data": {
      "image/png": "[encoded data removed]",
      "text/plain": [
       "<Figure size 576x432 with 2 Axes>"
      ]
     },
     "metadata": {
      "needs_background": "light"
     },
     "output_type": "display_data"
    }
   ],
   "source": [
    "cm = confusion_matrix(y_test_res_dup, y1_pred)\n",
    "plt.figure(figsize=(8, 6))\n",
    "sns.heatmap(cm, annot=True, fmt=\"d\")\n",
    "plt.title(\"Confusion Matrix for Random Forest Classifier Dup(d1,d2)\")\n",
    "plt.xlabel(\"Predicted Labels\")\n",
    "plt.ylabel(\"True Labels\")\n",
    "plt.show()"
   ]
  },
  {
   "cell_type": "code",
   "execution_count": 54,
   "id": "0d1af9b8",
   "metadata": {},
   "outputs": [
    {
     "data": {
      "image/png": "[encoded data removed]",
      "text/plain": [
       "<Figure size 576x432 with 2 Axes>"
      ]
     },
     "metadata": {
      "needs_background": "light"
     },
     "output_type": "display_data"
    }
   ],
   "source": [
    "cm = confusion_matrix(y_test_res_rel, y2_pred)\n",
    "plt.figure(figsize=(8, 6))\n",
    "sns.heatmap(cm, annot=True, fmt=\"d\")\n",
    "plt.title(\"Confusion Matrix for Random Forest Classifier Rel(d1,d2)\")\n",
    "plt.xlabel(\"Predicted Labels\")\n",
    "plt.ylabel(\"True Labels\")\n",
    "plt.show()"
   ]
  },
  {
   "cell_type": "markdown",
   "id": "7fddda0a",
   "metadata": {},
   "source": [
    "This model trained so well on the 'datesets_duplicates_match' column but there was a higher error for the \"datesets_subject_main_match\""
   ]
  },
  {
   "cell_type": "code",
   "execution_count": 55,
   "id": "c95df1cd",
   "metadata": {},
   "outputs": [
    {
     "name": "stdout",
     "output_type": "stream",
     "text": [
      "0    21093\n",
      "1     1485\n",
      "Name: Rel_match3, dtype: int64\n",
      "0    22504\n",
      "1       74\n",
      "Name: Dup_match3, dtype: int64\n"
     ]
    }
   ],
   "source": [
    "xnew_testt = test_m.drop(columns=['datesets_subject_main_match','datesets_duplicates_match'])\n",
    "\n",
    "yd_pred_test = rf_Dup.predict(xnew_testt)  # Dup(d1,d2)\n",
    "ym_pred_test = rf_Rel.predict(xnew_testt)  # Rel(d1,d2)\n",
    "\n",
    "xnew_testt[\"Dup_match3\"] = yd_pred_test\n",
    "xnew_testt[\"Rel_match3\"] = ym_pred_test\n",
    "\n",
    "print(xnew_testt[\"Rel_match3\"].value_counts())\n",
    "print(xnew_testt[\"Dup_match3\"].value_counts())"
   ]
  },
  {
   "cell_type": "code",
   "execution_count": 56,
   "id": "cd5a9930",
   "metadata": {},
   "outputs": [],
   "source": [
    "# original data\n",
    "# Main matches for Rel(d1,d2):\n",
    "#  0    22008\n",
    "# 1      570\n",
    "# Name: datesets_subject_main_match, dtype: int64\n",
    "# Duplicate matches for Dup(d1,d2):\n",
    "#  0    22450\n",
    "# 1      128\n",
    "# Name: datesets_duplicates_match, dtype: int64"
   ]
  },
  {
   "cell_type": "markdown",
   "id": "c6a065f8",
   "metadata": {},
   "source": [
    "### trial 5 -> Stratification + Over Sampling"
   ]
  },
  {
   "cell_type": "code",
   "execution_count": 57,
   "id": "5227b401",
   "metadata": {},
   "outputs": [],
   "source": [
    "# Define the feature matrix and output labels\n",
    "X = train_m.drop(['datesets_subject_main_match', 'datesets_duplicates_match'], axis=1)\n",
    "y_rel = train_m['datesets_subject_main_match']\n",
    "y_dup = train_m['datesets_duplicates_match']\n",
    "\n",
    "# Perform stratified sampling on 'Related' column\n",
    "x_train_rel, x_test_rel, y_train_rel, y_test_rel = train_test_split(X, y_rel, test_size=0.2, stratify=y_rel, random_state=42)\n",
    "\n",
    "# Perform stratified sampling on 'Duplicated' column\n",
    "x_train_dup, x_test_dup, y_train_dup, y_test_dup = train_test_split(X, y_dup, test_size=0.2, stratify=y_dup, random_state=42)"
   ]
  },
  {
   "cell_type": "markdown",
   "id": "12ba235e",
   "metadata": {},
   "source": [
    "Stratification ensures **proportional representation of both instances 0 and 1 in the sample.** This approach allows you to address the imbalance issue in each column **independently and ensure a representative sample of both categories.**"
   ]
  },
  {
   "cell_type": "code",
   "execution_count": 58,
   "id": "ab95faa6",
   "metadata": {},
   "outputs": [],
   "source": [
    "# Apply SMOTE for oversampling\n",
    "smote = SMOTE(random_state=42)\n",
    "\n",
    "X_train_resampledR, y_train_resampledR = smote.fit_resample(x_train_rel, y_train_rel)\n",
    "X_train_resampledD, y_train_resampledD = smote.fit_resample(x_train_dup, y_train_dup)"
   ]
  },
  {
   "attachments": {
    "image.png": {
     "image/png": "[encoded data removed]"
    }
   },
   "cell_type": "markdown",
   "id": "4f9c51e7",
   "metadata": {},
   "source": [
    "![image.png](attachment:image.png)"
   ]
  },
  {
   "cell_type": "markdown",
   "id": "4fec3ece",
   "metadata": {},
   "source": [
    "To increase the representation of 1 instances in the training data. I used **Synthetic Minority Over-sampling Technique** (SMOTE) which creates synthetic examples of the minority class (class 1) to balance the dataset. It focuses on the **feature space to generate new instances with the help of interpolation** between the positive instances that lie together."
   ]
  },
  {
   "cell_type": "markdown",
   "id": "68028cf1",
   "metadata": {},
   "source": [
    "**SMOTE works by:**\n",
    "- Selecting examples that are close in the feature space.\n",
    "- Drawing a line between the examples in the feature space.\n",
    "- And drawing a new sample at a point along that line."
   ]
  },
  {
   "cell_type": "code",
   "execution_count": 59,
   "id": "4c3eb7a8",
   "metadata": {},
   "outputs": [
    {
     "data": {
      "text/plain": [
       "1    5744\n",
       "0    5744\n",
       "Name: datesets_subject_main_match, dtype: int64"
      ]
     },
     "execution_count": 59,
     "metadata": {},
     "output_type": "execute_result"
    }
   ],
   "source": [
    "y_train_resampledR.value_counts()"
   ]
  },
  {
   "cell_type": "code",
   "execution_count": 60,
   "id": "410ea53b",
   "metadata": {},
   "outputs": [
    {
     "data": {
      "text/plain": [
       "0    6650\n",
       "1    6650\n",
       "Name: datesets_duplicates_match, dtype: int64"
      ]
     },
     "execution_count": 60,
     "metadata": {},
     "output_type": "execute_result"
    }
   ],
   "source": [
    "y_train_resampledD.value_counts()"
   ]
  },
  {
   "cell_type": "markdown",
   "id": "97850e18",
   "metadata": {},
   "source": [
    "Here after applying oversampling the data became **perfectly balanced equally considering both 0 and 1 instances** while there is a good sample size for data to be used for model training."
   ]
  },
  {
   "cell_type": "code",
   "execution_count": 61,
   "id": "4d5eb7a7",
   "metadata": {},
   "outputs": [],
   "source": [
    "# Apply train-test split again for resampled data\n",
    "x_train_res_rel, x_test_res_rel, y_train_res_rel, y_test_res_rel = train_test_split(X_train_resampledR, y_train_resampledR, test_size=0.2, random_state=42)\n",
    "x_train_res_dup, x_test_res_dup, y_train_res_dup, y_test_res_dup = train_test_split(X_train_resampledD, y_train_resampledD, test_size=0.2, random_state=42)"
   ]
  },
  {
   "cell_type": "markdown",
   "id": "f668a45e",
   "metadata": {},
   "source": [
    "Next -> Training a **random forest** model on the new training data after applying **stratification for our data and oversampling using SMOTE.**"
   ]
  },
  {
   "cell_type": "code",
   "execution_count": 62,
   "id": "3ffb8060",
   "metadata": {},
   "outputs": [
    {
     "name": "stdout",
     "output_type": "stream",
     "text": [
      "Validation Accuracy for Random Forest Classifier - Dup(d1,d2): 0.999624060150376\n",
      "Precision for Random Forest Classifier - Dup(d1,d2): 0.9992565055762082\n",
      "Recall for Random Forest Classifier - Dup(d1,d2): 1.0\n",
      "F1 score for Random Forest Classifier - Dup(d1,d2): 0.9996281145407214\n"
     ]
    }
   ],
   "source": [
    "# Training Random forest classifier for dataset_duplicates_match column -  dup(d1,d2)\n",
    "\n",
    "rf_Dup = RandomForestClassifier()\n",
    "\n",
    "rf_Dup.fit(x_train_res_dup, y_train_res_dup)\n",
    "\n",
    "y1_pred = rf_Dup.predict(x_test_res_dup)\n",
    "\n",
    "accuracy1 = accuracy_score(y_test_res_dup, y1_pred)\n",
    "precision1 = precision_score(y_test_res_dup, y1_pred)\n",
    "recall1 = recall_score(y_test_res_dup, y1_pred)\n",
    "f1_score1 = f1_score(y_test_res_dup, y1_pred)\n",
    "\n",
    "print(\"Validation Accuracy for Random Forest Classifier - Dup(d1,d2):\", accuracy1)\n",
    "print(\"Precision for Random Forest Classifier - Dup(d1,d2):\", precision1)\n",
    "print(\"Recall for Random Forest Classifier - Dup(d1,d2):\", recall1)\n",
    "print(\"F1 score for Random Forest Classifier - Dup(d1,d2):\", f1_score1)"
   ]
  },
  {
   "cell_type": "code",
   "execution_count": 63,
   "id": "24ecedab",
   "metadata": {},
   "outputs": [
    {
     "data": {
      "image/png": "[encoded data removed]",
      "text/plain": [
       "<Figure size 576x432 with 2 Axes>"
      ]
     },
     "metadata": {
      "needs_background": "light"
     },
     "output_type": "display_data"
    }
   ],
   "source": [
    "cm = confusion_matrix(y_test_res_dup, y1_pred)\n",
    "plt.figure(figsize=(8, 6))\n",
    "sns.heatmap(cm, annot=True, fmt=\"d\")\n",
    "plt.title(\"Confusion Matrix for Random Forest Classifier Dup(d1,d2)\")\n",
    "plt.xlabel(\"Predicted Labels\")\n",
    "plt.ylabel(\"True Labels\")\n",
    "plt.show()"
   ]
  },
  {
   "cell_type": "markdown",
   "id": "420e6f0e",
   "metadata": {},
   "source": [
    "The confusion matrix above indicates that **almost all predictions are correct** with 1315 True Negatives (TN) and 1344 True Positives (TP), **1 False Positive (FP) and no False Negative (FN) values**"
   ]
  },
  {
   "cell_type": "code",
   "execution_count": 64,
   "id": "e9b80eb1",
   "metadata": {},
   "outputs": [
    {
     "name": "stdout",
     "output_type": "stream",
     "text": [
      "Validation Accuracy for Random Forest Classifier - Rel(d1,d2): 0.9477806788511749\n",
      "Precision for Random Forest Classifier - Rel(d1,d2): 0.9444926279271466\n",
      "Recall for Random Forest Classifier - Rel(d1,d2): 0.9510917030567686\n",
      "F1 score for Random Forest Classifier - Rel(d1,d2): 0.947780678851175\n"
     ]
    }
   ],
   "source": [
    "# Random forest classifier for datesets_subject_main_match column  -  Rel(d1,d2)\n",
    "\n",
    "rf_Rel = RandomForestClassifier()\n",
    "\n",
    "rf_Rel.fit(x_train_res_rel, y_train_res_rel)\n",
    "\n",
    "y2_pred = rf_Rel.predict(x_test_res_rel)\n",
    "\n",
    "accuracy2 = accuracy_score(y_test_res_rel, y2_pred)\n",
    "precision2 = precision_score(y_test_res_rel, y2_pred)\n",
    "recall2 = recall_score(y_test_res_rel, y2_pred)\n",
    "f1_score2 = f1_score(y_test_res_rel, y2_pred)\n",
    "\n",
    "print(\"Validation Accuracy for Random Forest Classifier - Rel(d1,d2):\", accuracy2)\n",
    "print(\"Precision for Random Forest Classifier - Rel(d1,d2):\", precision2)\n",
    "print(\"Recall for Random Forest Classifier - Rel(d1,d2):\", recall2)\n",
    "print(\"F1 score for Random Forest Classifier - Rel(d1,d2):\", f1_score2)"
   ]
  },
  {
   "cell_type": "code",
   "execution_count": 65,
   "id": "f6b97886",
   "metadata": {},
   "outputs": [
    {
     "data": {
      "image/png": "[encoded data removed]",
      "text/plain": [
       "<Figure size 576x432 with 2 Axes>"
      ]
     },
     "metadata": {
      "needs_background": "light"
     },
     "output_type": "display_data"
    }
   ],
   "source": [
    "cm = confusion_matrix(y_test_res_rel, y2_pred)\n",
    "plt.figure(figsize=(8, 6))\n",
    "sns.heatmap(cm, annot=True, fmt=\"d\")\n",
    "plt.title(\"Confusion Matrix for Random Forest Classifier Rel(d1,d2)\")\n",
    "plt.xlabel(\"Predicted Labels\")\n",
    "plt.ylabel(\"True Labels\")\n",
    "plt.show()"
   ]
  },
  {
   "cell_type": "markdown",
   "id": "16aa964b",
   "metadata": {},
   "source": [
    "The confusion matrix above has 1364 True Negative (TN) and 1382 True Positive (TP) values which means that the **majority of predictions were corect** but there is a **slightly higher error** for the **'datesets_subject_main_match'** output as there are  are 64 False Positives (FP) and 56 False Negatives (FN)"
   ]
  },
  {
   "cell_type": "code",
   "execution_count": 66,
   "id": "95a846b0",
   "metadata": {},
   "outputs": [
    {
     "name": "stdout",
     "output_type": "stream",
     "text": [
      "0    20803\n",
      "1     1775\n",
      "Name: Rel_match2, dtype: int64\n",
      "0    22504\n",
      "1       74\n",
      "Name: Dup_match2, dtype: int64\n"
     ]
    }
   ],
   "source": [
    "xn_test = test_m.drop(columns=['datesets_subject_main_match','datesets_duplicates_match'])\n",
    "\n",
    "yd_pred_test = rf_Dup.predict(xn_test)  # Dup(d1,d2)\n",
    "ym_pred_test = rf_Rel.predict(xn_test)  # Rel(d1,d2)\n",
    "\n",
    "xn_test[\"Dup_match2\"] = yd_pred_test\n",
    "xn_test[\"Rel_match2\"] = ym_pred_test\n",
    "\n",
    "print(xn_test[\"Rel_match2\"].value_counts())\n",
    "print(xn_test[\"Dup_match2\"].value_counts())"
   ]
  },
  {
   "cell_type": "code",
   "execution_count": 67,
   "id": "72b49a7a",
   "metadata": {},
   "outputs": [],
   "source": [
    "# original data\n",
    "# Main matches for Rel(d1,d2):\n",
    "#  0    22008\n",
    "# 1      570\n",
    "# Name: datesets_subject_main_match, dtype: int64\n",
    "# Duplicate matches for Dup(d1,d2):\n",
    "#  0    22450\n",
    "# 1      128\n",
    "# Name: datesets_duplicates_match, dtype: int64"
   ]
  },
  {
   "cell_type": "markdown",
   "id": "e1679a8b",
   "metadata": {},
   "source": [
    "### trial 6 -> stratification for 1 instances only for both columns + stratification on both instances for both columns + Over Sampling"
   ]
  },
  {
   "cell_type": "code",
   "execution_count": 68,
   "id": "15212cf1",
   "metadata": {},
   "outputs": [],
   "source": [
    "# Determine the target sample size for stratification on 1 instance in 'datesets_duplicates_match' column\n",
    "target_sample_size_1_duplicates = 8385  # Adjust this value as per your requirements\n",
    "\n",
    "# Perform stratification on 1 instance in 'datesets_duplicates_match' column\n",
    "stratified_sample_1_duplicates = df_m[df_m['datesets_duplicates_match'] == 1].sample(n=target_sample_size_1_duplicates, replace=True, random_state=42)\n",
    "\n",
    "# Determine the target sample size for stratification on 1 instance in 'datesets_subject_main_match' column\n",
    "target_sample_size_1_subject = 8385  # Adjust this value as per your requirements\n",
    "\n",
    "# Perform stratification on 1 instance in 'datesets_subject_main_match' column\n",
    "stratified_sample_1_subject = df_m[df_m['datesets_subject_main_match'] == 1].sample(n=target_sample_size_1_subject, replace=True, random_state=42)\n",
    "\n",
    "# Determine the target sample size for stratification on both instances\n",
    "target_sample_size_both = 8385  # Adjust this value as per your requirements\n",
    "\n",
    "# Perform stratification on both instances\n",
    "stratified_sample_both = df_m.sample(n=target_sample_size_both, replace=True, random_state=42)\n",
    "\n",
    "# Concatenate the samples\n",
    "stratified_sample = pd.concat([stratified_sample_1_duplicates, stratified_sample_1_subject, stratified_sample_both])\n",
    "\n",
    "# Split the sample into train and test sets\n",
    "train_set, test_set = train_test_split(stratified_sample, test_size=0.2, random_state=42)\n"
   ]
  },
  {
   "cell_type": "code",
   "execution_count": 69,
   "id": "c85672aa",
   "metadata": {},
   "outputs": [
    {
     "data": {
      "text/html": [
       "<div>\n",
       "<style scoped>\n",
       "    .dataframe tbody tr th:only-of-type {\n",
       "        vertical-align: middle;\n",
       "    }\n",
       "\n",
       "    .dataframe tbody tr th {\n",
       "        vertical-align: top;\n",
       "    }\n",
       "\n",
       "    .dataframe thead th {\n",
       "        text-align: right;\n",
       "    }\n",
       "</style>\n",
       "<table border=\"1\" class=\"dataframe\">\n",
       "  <thead>\n",
       "    <tr style=\"text-align: right;\">\n",
       "      <th></th>\n",
       "      <th>num_instances</th>\n",
       "      <th>num_attributes</th>\n",
       "      <th>dimensionality</th>\n",
       "      <th>num_numeric_attr</th>\n",
       "      <th>pct_numeric_attr</th>\n",
       "      <th>num_nominal_attr</th>\n",
       "      <th>pct_nominal_attr</th>\n",
       "      <th>avg_nominal_values</th>\n",
       "      <th>sd_nominal_values</th>\n",
       "      <th>min_nominal_values</th>\n",
       "      <th>...</th>\n",
       "      <th>missing_instances_max_cnt</th>\n",
       "      <th>missing_instances_max_pct</th>\n",
       "      <th>missing_instances_min_cnt</th>\n",
       "      <th>missing_instances_min_pct</th>\n",
       "      <th>missing_instances_mean</th>\n",
       "      <th>missing_instances_mean_pct</th>\n",
       "      <th>datesets_subject_main_match</th>\n",
       "      <th>datesets_duplicates_match</th>\n",
       "      <th>cluster_duplicates</th>\n",
       "      <th>cluster_subject_main</th>\n",
       "    </tr>\n",
       "  </thead>\n",
       "  <tbody>\n",
       "    <tr>\n",
       "      <th>4758</th>\n",
       "      <td>0.108911</td>\n",
       "      <td>0.000000</td>\n",
       "      <td>0.108911</td>\n",
       "      <td>0.461538</td>\n",
       "      <td>0.461538</td>\n",
       "      <td>0.857143</td>\n",
       "      <td>0.857143</td>\n",
       "      <td>0.263158</td>\n",
       "      <td>1.000000</td>\n",
       "      <td>0.0</td>\n",
       "      <td>...</td>\n",
       "      <td>1.0</td>\n",
       "      <td>1.0</td>\n",
       "      <td>1.0</td>\n",
       "      <td>1.0</td>\n",
       "      <td>1.0</td>\n",
       "      <td>1.0</td>\n",
       "      <td>1</td>\n",
       "      <td>1</td>\n",
       "      <td>0</td>\n",
       "      <td>0</td>\n",
       "    </tr>\n",
       "    <tr>\n",
       "      <th>2681</th>\n",
       "      <td>0.000000</td>\n",
       "      <td>0.000000</td>\n",
       "      <td>0.000000</td>\n",
       "      <td>1.000000</td>\n",
       "      <td>1.000000</td>\n",
       "      <td>0.470588</td>\n",
       "      <td>0.470588</td>\n",
       "      <td>0.075650</td>\n",
       "      <td>0.146349</td>\n",
       "      <td>0.0</td>\n",
       "      <td>...</td>\n",
       "      <td>0.0</td>\n",
       "      <td>0.0</td>\n",
       "      <td>0.0</td>\n",
       "      <td>0.0</td>\n",
       "      <td>0.0</td>\n",
       "      <td>0.0</td>\n",
       "      <td>1</td>\n",
       "      <td>1</td>\n",
       "      <td>1</td>\n",
       "      <td>1</td>\n",
       "    </tr>\n",
       "    <tr>\n",
       "      <th>8132</th>\n",
       "      <td>0.975664</td>\n",
       "      <td>0.000000</td>\n",
       "      <td>0.975664</td>\n",
       "      <td>0.000000</td>\n",
       "      <td>0.000000</td>\n",
       "      <td>0.000000</td>\n",
       "      <td>0.000000</td>\n",
       "      <td>0.000000</td>\n",
       "      <td>0.000000</td>\n",
       "      <td>0.0</td>\n",
       "      <td>...</td>\n",
       "      <td>0.0</td>\n",
       "      <td>0.0</td>\n",
       "      <td>0.0</td>\n",
       "      <td>0.0</td>\n",
       "      <td>0.0</td>\n",
       "      <td>0.0</td>\n",
       "      <td>1</td>\n",
       "      <td>1</td>\n",
       "      <td>1</td>\n",
       "      <td>1</td>\n",
       "    </tr>\n",
       "    <tr>\n",
       "      <th>5973</th>\n",
       "      <td>0.000625</td>\n",
       "      <td>0.000000</td>\n",
       "      <td>0.000625</td>\n",
       "      <td>0.000000</td>\n",
       "      <td>0.000000</td>\n",
       "      <td>0.000000</td>\n",
       "      <td>0.000000</td>\n",
       "      <td>0.000000</td>\n",
       "      <td>0.000000</td>\n",
       "      <td>0.0</td>\n",
       "      <td>...</td>\n",
       "      <td>0.0</td>\n",
       "      <td>0.0</td>\n",
       "      <td>0.0</td>\n",
       "      <td>0.0</td>\n",
       "      <td>0.0</td>\n",
       "      <td>0.0</td>\n",
       "      <td>1</td>\n",
       "      <td>1</td>\n",
       "      <td>1</td>\n",
       "      <td>1</td>\n",
       "    </tr>\n",
       "    <tr>\n",
       "      <th>3632</th>\n",
       "      <td>0.581633</td>\n",
       "      <td>0.071429</td>\n",
       "      <td>0.549451</td>\n",
       "      <td>0.416667</td>\n",
       "      <td>0.458333</td>\n",
       "      <td>0.857143</td>\n",
       "      <td>0.846154</td>\n",
       "      <td>0.457143</td>\n",
       "      <td>1.000000</td>\n",
       "      <td>0.6</td>\n",
       "      <td>...</td>\n",
       "      <td>1.0</td>\n",
       "      <td>1.0</td>\n",
       "      <td>1.0</td>\n",
       "      <td>1.0</td>\n",
       "      <td>1.0</td>\n",
       "      <td>1.0</td>\n",
       "      <td>1</td>\n",
       "      <td>1</td>\n",
       "      <td>0</td>\n",
       "      <td>0</td>\n",
       "    </tr>\n",
       "  </tbody>\n",
       "</table>\n",
       "<p>5 rows × 27 columns</p>\n",
       "</div>"
      ],
      "text/plain": [
       "      num_instances  num_attributes  dimensionality  num_numeric_attr  \\\n",
       "4758       0.108911        0.000000        0.108911          0.461538   \n",
       "2681       0.000000        0.000000        0.000000          1.000000   \n",
       "8132       0.975664        0.000000        0.975664          0.000000   \n",
       "5973       0.000625        0.000000        0.000625          0.000000   \n",
       "3632       0.581633        0.071429        0.549451          0.416667   \n",
       "\n",
       "      pct_numeric_attr  num_nominal_attr  pct_nominal_attr  \\\n",
       "4758          0.461538          0.857143          0.857143   \n",
       "2681          1.000000          0.470588          0.470588   \n",
       "8132          0.000000          0.000000          0.000000   \n",
       "5973          0.000000          0.000000          0.000000   \n",
       "3632          0.458333          0.857143          0.846154   \n",
       "\n",
       "      avg_nominal_values  sd_nominal_values  min_nominal_values  ...  \\\n",
       "4758            0.263158           1.000000                 0.0  ...   \n",
       "2681            0.075650           0.146349                 0.0  ...   \n",
       "8132            0.000000           0.000000                 0.0  ...   \n",
       "5973            0.000000           0.000000                 0.0  ...   \n",
       "3632            0.457143           1.000000                 0.6  ...   \n",
       "\n",
       "      missing_instances_max_cnt  missing_instances_max_pct  \\\n",
       "4758                        1.0                        1.0   \n",
       "2681                        0.0                        0.0   \n",
       "8132                        0.0                        0.0   \n",
       "5973                        0.0                        0.0   \n",
       "3632                        1.0                        1.0   \n",
       "\n",
       "      missing_instances_min_cnt  missing_instances_min_pct  \\\n",
       "4758                        1.0                        1.0   \n",
       "2681                        0.0                        0.0   \n",
       "8132                        0.0                        0.0   \n",
       "5973                        0.0                        0.0   \n",
       "3632                        1.0                        1.0   \n",
       "\n",
       "      missing_instances_mean  missing_instances_mean_pct  \\\n",
       "4758                     1.0                         1.0   \n",
       "2681                     0.0                         0.0   \n",
       "8132                     0.0                         0.0   \n",
       "5973                     0.0                         0.0   \n",
       "3632                     1.0                         1.0   \n",
       "\n",
       "      datesets_subject_main_match  datesets_duplicates_match  \\\n",
       "4758                            1                          1   \n",
       "2681                            1                          1   \n",
       "8132                            1                          1   \n",
       "5973                            1                          1   \n",
       "3632                            1                          1   \n",
       "\n",
       "      cluster_duplicates  cluster_subject_main  \n",
       "4758                   0                     0  \n",
       "2681                   1                     1  \n",
       "8132                   1                     1  \n",
       "5973                   1                     1  \n",
       "3632                   0                     0  \n",
       "\n",
       "[5 rows x 27 columns]"
      ]
     },
     "execution_count": 69,
     "metadata": {},
     "output_type": "execute_result"
    }
   ],
   "source": [
    "stratified_sample.head()"
   ]
  },
  {
   "cell_type": "code",
   "execution_count": 70,
   "id": "e359d623",
   "metadata": {},
   "outputs": [
    {
     "data": {
      "text/plain": [
       "0    16194\n",
       "1     8961\n",
       "Name: datesets_duplicates_match, dtype: int64"
      ]
     },
     "execution_count": 70,
     "metadata": {},
     "output_type": "execute_result"
    }
   ],
   "source": [
    "stratified_sample['datesets_duplicates_match'].value_counts()"
   ]
  },
  {
   "cell_type": "code",
   "execution_count": 71,
   "id": "e5926c0c",
   "metadata": {
    "scrolled": true
   },
   "outputs": [
    {
     "data": {
      "text/plain": [
       "1    17953\n",
       "0     7202\n",
       "Name: datesets_subject_main_match, dtype: int64"
      ]
     },
     "execution_count": 71,
     "metadata": {},
     "output_type": "execute_result"
    }
   ],
   "source": [
    "stratified_sample['datesets_subject_main_match'].value_counts()"
   ]
  },
  {
   "cell_type": "code",
   "execution_count": 72,
   "id": "eda58faa",
   "metadata": {},
   "outputs": [],
   "source": [
    "X = stratified_sample.drop(['datesets_subject_main_match', 'datesets_duplicates_match'], axis=1)\n",
    "\n",
    "smote_dup = SMOTE(random_state=42)\n",
    "X_train_resampled_dup, y_train_resampled_dup = smote_dup.fit_resample(X, stratified_sample['datesets_duplicates_match'])\n",
    "\n",
    "# Apply SMOTE for oversampling on 'datesets_subject_main_match' column\n",
    "smote_rel = SMOTE(random_state=42)\n",
    "X_train_resampled_rel, y_train_resampled_rel = smote_rel.fit_resample(X, stratified_sample['datesets_subject_main_match'])\n",
    "\n",
    "# Apply train-test split again for resampled data in 'datesets_duplicates_match' column\n",
    "x_train_res_dup, x_test_res_dup, y_train_res_dup, y_test_res_dup = train_test_split(X_train_resampled_dup, y_train_resampled_dup, test_size=0.2, random_state=42)\n",
    "\n",
    "# Apply train-test split again for resampled data in 'datesets_subject_main_match' column\n",
    "x_train_res_rel, x_test_res_rel, y_train_res_rel, y_test_res_rel = train_test_split(X_train_resampled_rel, y_train_resampled_rel, test_size=0.2, random_state=42)\n"
   ]
  },
  {
   "cell_type": "code",
   "execution_count": 73,
   "id": "dce9519a",
   "metadata": {},
   "outputs": [
    {
     "data": {
      "text/plain": [
       "1    12981\n",
       "0    12929\n",
       "Name: datesets_duplicates_match, dtype: int64"
      ]
     },
     "execution_count": 73,
     "metadata": {},
     "output_type": "execute_result"
    }
   ],
   "source": [
    "y_train_res_dup.value_counts()"
   ]
  },
  {
   "cell_type": "code",
   "execution_count": 74,
   "id": "57bb07ce",
   "metadata": {},
   "outputs": [
    {
     "data": {
      "text/plain": [
       "0    14414\n",
       "1    14310\n",
       "Name: datesets_subject_main_match, dtype: int64"
      ]
     },
     "execution_count": 74,
     "metadata": {},
     "output_type": "execute_result"
    }
   ],
   "source": [
    "y_train_res_rel.value_counts()"
   ]
  },
  {
   "cell_type": "markdown",
   "id": "93d81a1b",
   "metadata": {},
   "source": [
    "**The sampled data became more** in this approach and this was expected to yield better results as the model **would train on larger balanced data.**"
   ]
  },
  {
   "cell_type": "markdown",
   "id": "20f6ebbd",
   "metadata": {},
   "source": [
    "-> We will train on 2 different models **K-Nearest Neighbours and Random Forest Classifier**"
   ]
  },
  {
   "cell_type": "markdown",
   "id": "e635be28",
   "metadata": {},
   "source": [
    "### A distance-based algorithm: K-Nearest Neighbours (KNN)"
   ]
  },
  {
   "cell_type": "code",
   "execution_count": 75,
   "id": "a2652878",
   "metadata": {},
   "outputs": [],
   "source": [
    "# Split the data into training and test sets (validation)\n",
    "xd_train, xd_test, yd_train, yd_test = train_test_split(x_train_res_dup, y_train_res_dup, test_size=0.2)\n",
    "xm_train, xm_test, ym_train, ym_test = train_test_split(x_train_res_rel, y_train_res_rel, test_size=0.2)"
   ]
  },
  {
   "cell_type": "code",
   "execution_count": 76,
   "id": "113bd186",
   "metadata": {
    "scrolled": true
   },
   "outputs": [
    {
     "name": "stdout",
     "output_type": "stream",
     "text": [
      "Train dataset:  (20728, 25)\n",
      "Test dataset:  (22578, 25)\n"
     ]
    }
   ],
   "source": [
    "print('Train dataset: ' , xd_train.shape)\n",
    "print('Test dataset: ' , test_m.shape)"
   ]
  },
  {
   "cell_type": "code",
   "execution_count": 77,
   "id": "0d7dacd9",
   "metadata": {},
   "outputs": [
    {
     "name": "stdout",
     "output_type": "stream",
     "text": [
      "Validation Accuracy for KNN Classifier - Dup(d1,d2): 0.999421072944809\n",
      "Precision for KNN Classifier - Dup(d1,d2): 0.9988434849653045\n",
      "Recall for KNN Classifier - Dup(d1,d2): 1.0\n",
      "F1 score for KNN Classifier - Dup(d1,d2): 0.9994214079074253\n"
     ]
    }
   ],
   "source": [
    "# K-Nearest Neighbors Classifier for dataset_duplicates_match column -  dup(d1,d2)\n",
    "\n",
    "knn1 = KNeighborsClassifier()\n",
    "\n",
    "knn1.fit(xd_train,yd_train)\n",
    "result1 =knn1.predict(xd_test)\n",
    "\n",
    "acc1 = accuracy_score(yd_test, result1)\n",
    "prec1 = precision_score(yd_test, result1)\n",
    "rec1 = recall_score(yd_test, result1)\n",
    "f1 = f1_score(yd_test, result1)\n",
    "\n",
    "print(\"Validation Accuracy for KNN Classifier - Dup(d1,d2):\", acc1)\n",
    "print(\"Precision for KNN Classifier - Dup(d1,d2):\", prec1)\n",
    "print(\"Recall for KNN Classifier - Dup(d1,d2):\", rec1)\n",
    "print(\"F1 score for KNN Classifier - Dup(d1,d2):\", f1)"
   ]
  },
  {
   "cell_type": "code",
   "execution_count": 78,
   "id": "5d266972",
   "metadata": {},
   "outputs": [
    {
     "data": {
      "image/png": "[encoded data removed]",
      "text/plain": [
       "<Figure size 576x432 with 2 Axes>"
      ]
     },
     "metadata": {
      "needs_background": "light"
     },
     "output_type": "display_data"
    }
   ],
   "source": [
    "cm = confusion_matrix(yd_test, result1)\n",
    "plt.figure(figsize=(8, 6))\n",
    "sns.heatmap(cm, annot=True, fmt=\"d\")\n",
    "plt.title(\"Confusion Matrix for KNN Classifier Dup(d1,d2)\")\n",
    "plt.xlabel(\"Predicted Labels\")\n",
    "plt.ylabel(\"True Labels\")\n",
    "plt.show()"
   ]
  },
  {
   "cell_type": "markdown",
   "id": "d57cf7f6",
   "metadata": {},
   "source": [
    "As clear in this confusion matrix above that almost **all predictions are correct** which represent the **high** True Negative (TN) and True Positive (TP) values whereas there were only **3 False Positive (FP) and 0 False Negative (FN) values**"
   ]
  },
  {
   "cell_type": "code",
   "execution_count": 79,
   "id": "7c6c378b",
   "metadata": {},
   "outputs": [
    {
     "name": "stdout",
     "output_type": "stream",
     "text": [
      "Validation Accuracy for KNN Classifier - Rel(d1,d2): 0.9761531766753699\n",
      "Precision for KNN Classifier - Rel(d1,d2): 0.9683413626978665\n",
      "Recall for KNN Classifier - Rel(d1,d2): 0.9842602308499475\n",
      "F1 score for KNN Classifier - Rel(d1,d2): 0.9762359063313096\n"
     ]
    }
   ],
   "source": [
    "# K-Nearest Neighbors Classifier for datesets_subject_main_match column  -  Rel(d1,d2)\n",
    "\n",
    "knn2 = KNeighborsClassifier()\n",
    "\n",
    "knn2.fit(xm_train,ym_train)\n",
    "result2 =knn2.predict(xm_test)\n",
    "\n",
    "acc2 = accuracy_score(ym_test, result2)\n",
    "prec2 = precision_score(ym_test, result2)\n",
    "rec2 = recall_score(ym_test, result2)\n",
    "f2 = f1_score(ym_test, result2)\n",
    "\n",
    "print(\"Validation Accuracy for KNN Classifier - Rel(d1,d2):\", acc2)\n",
    "print(\"Precision for KNN Classifier - Rel(d1,d2):\", prec2)\n",
    "print(\"Recall for KNN Classifier - Rel(d1,d2):\", rec2)\n",
    "print(\"F1 score for KNN Classifier - Rel(d1,d2):\", f2)"
   ]
  },
  {
   "cell_type": "code",
   "execution_count": 80,
   "id": "8b64dacf",
   "metadata": {},
   "outputs": [
    {
     "data": {
      "image/png": "[encoded data removed]",
      "text/plain": [
       "<Figure size 576x432 with 2 Axes>"
      ]
     },
     "metadata": {
      "needs_background": "light"
     },
     "output_type": "display_data"
    }
   ],
   "source": [
    "cm = confusion_matrix(ym_test, result2)\n",
    "plt.figure(figsize=(8, 6))\n",
    "sns.heatmap(cm, annot=True, fmt=\"d\")\n",
    "plt.title(\"Confusion Matrix for KNN Classifier Rel(d1,d2)\")\n",
    "plt.xlabel(\"Predicted Labels\")\n",
    "plt.ylabel(\"True Labels\")\n",
    "plt.show()"
   ]
  },
  {
   "cell_type": "markdown",
   "id": "772710a9",
   "metadata": {},
   "source": [
    "As clear in this confusion matrix above the **highest** value is of the True Negatives (TN) which equals **2794** corect predictions and the True Positives (TP) are 2814 values whereas there were 92 False Positives (FP) and 45 False Negatives (FN) which indicates that the model was less accurate while **testing on the \"datesets_subject_main_match\".**"
   ]
  },
  {
   "cell_type": "markdown",
   "id": "2e0fa3dd",
   "metadata": {},
   "source": [
    "### An ensemble learner based on decision trees bagging: Random Forest"
   ]
  },
  {
   "cell_type": "code",
   "execution_count": 81,
   "id": "121a84b4",
   "metadata": {},
   "outputs": [
    {
     "name": "stdout",
     "output_type": "stream",
     "text": [
      "Validation Accuracy for Random Forest Classifier - Dup(d1,d2): 1.0\n",
      "Precision for Random Forest Classifier - Dup(d1,d2): 1.0\n",
      "Recall for Random Forest Classifier - Dup(d1,d2): 1.0\n",
      "F1 score for Random Forest Classifier - Dup(d1,d2): 1.0\n"
     ]
    }
   ],
   "source": [
    "# Training Random forest classifier for dataset_duplicates_match column -  dup(d1,d2)\n",
    "\n",
    "rf1 = RandomForestClassifier()\n",
    "\n",
    "rf1.fit(xd_train, yd_train)\n",
    "\n",
    "y1_pred = rf1.predict(xd_test)\n",
    "\n",
    "accuracy1 = accuracy_score(yd_test, y1_pred)\n",
    "precision1 = precision_score(yd_test, y1_pred)\n",
    "recall1 = recall_score(yd_test, y1_pred)\n",
    "f1_sc = f1_score(yd_test, y1_pred)\n",
    "\n",
    "print(\"Validation Accuracy for Random Forest Classifier - Dup(d1,d2):\", accuracy1)\n",
    "print(\"Precision for Random Forest Classifier - Dup(d1,d2):\", precision1)\n",
    "print(\"Recall for Random Forest Classifier - Dup(d1,d2):\", recall1)\n",
    "print(\"F1 score for Random Forest Classifier - Dup(d1,d2):\", f1_sc)"
   ]
  },
  {
   "cell_type": "code",
   "execution_count": 82,
   "id": "43031da8",
   "metadata": {},
   "outputs": [
    {
     "name": "stdout",
     "output_type": "stream",
     "text": [
      "Validation Accuracy for Random Forest Classifier - Rel(d1,d2): 0.9986074847693647\n",
      "Precision for Random Forest Classifier - Rel(d1,d2): 0.9975567190226876\n",
      "Recall for Random Forest Classifier - Rel(d1,d2): 0.9996502273522211\n",
      "F1 score for Random Forest Classifier - Rel(d1,d2): 0.9986023759608665\n"
     ]
    }
   ],
   "source": [
    "# Random forest classifier for datesets_subject_main_match column  -  Rel(d1,d2)\n",
    "\n",
    "rf2 = RandomForestClassifier()\n",
    "\n",
    "rf2.fit(xm_train, ym_train)\n",
    "\n",
    "y2_pred = rf2.predict(xm_test)\n",
    "\n",
    "accuracy2 = accuracy_score(ym_test, y2_pred)\n",
    "precision2 = precision_score(ym_test, y2_pred)\n",
    "recall2 = recall_score(ym_test, y2_pred)\n",
    "f1_sc2 = f1_score(ym_test, y2_pred)\n",
    "\n",
    "print(\"Validation Accuracy for Random Forest Classifier - Rel(d1,d2):\", accuracy2)\n",
    "print(\"Precision for Random Forest Classifier - Rel(d1,d2):\", precision2)\n",
    "print(\"Recall for Random Forest Classifier - Rel(d1,d2):\", recall2)\n",
    "print(\"F1 score for Random Forest Classifier - Rel(d1,d2):\", f1_sc2)"
   ]
  },
  {
   "cell_type": "markdown",
   "id": "b7b0f48c",
   "metadata": {},
   "source": [
    "Best model was **random forest** for both predictions Rel(d1,d2) and Dup(d1,d2) so, we'll use models -> rf1 and rf2"
   ]
  },
  {
   "cell_type": "markdown",
   "id": "ea64dca3",
   "metadata": {},
   "source": [
    "Next we will apply **cross validation to obtain better training results** hence, we should get better testing scores"
   ]
  },
  {
   "cell_type": "code",
   "execution_count": 83,
   "id": "eee63498",
   "metadata": {},
   "outputs": [
    {
     "data": {
      "text/plain": [
       "0    2591\n",
       "1    2591\n",
       "dtype: int64"
      ]
     },
     "execution_count": 83,
     "metadata": {},
     "output_type": "execute_result"
    }
   ],
   "source": [
    "pd.DataFrame(y1_pred).value_counts()"
   ]
  },
  {
   "cell_type": "code",
   "execution_count": 84,
   "id": "da302750",
   "metadata": {},
   "outputs": [
    {
     "data": {
      "text/plain": [
       "0    2880\n",
       "1    2865\n",
       "dtype: int64"
      ]
     },
     "execution_count": 84,
     "metadata": {},
     "output_type": "execute_result"
    }
   ],
   "source": [
    "pd.DataFrame(y2_pred).value_counts()"
   ]
  },
  {
   "cell_type": "markdown",
   "id": "d9c13a6d",
   "metadata": {},
   "source": [
    "## Cross Validation"
   ]
  },
  {
   "cell_type": "code",
   "execution_count": 85,
   "id": "601b5997",
   "metadata": {},
   "outputs": [
    {
     "name": "stdout",
     "output_type": "stream",
     "text": [
      "Fold 1: 1.0\n",
      "Fold 2: 0.9998070243149363\n",
      "Fold 3: 0.9996140486298727\n",
      "Fold 4: 0.9998070243149363\n",
      "Fold 5: 0.9998070243149363\n",
      "Mean Accuracy:  0.9998070243149364\n"
     ]
    }
   ],
   "source": [
    "# Dup\n",
    "\n",
    "kfold = KFold(n_splits=5, shuffle=True, random_state=42)\n",
    "\n",
    "scores2 = cross_val_score(rf1, x_train_res_dup, y_train_res_dup, cv=kfold)\n",
    "\n",
    "# Print the accuracy scores for each fold\n",
    "for fold, score in enumerate(scores2):\n",
    "    print(f\"Fold {fold+1}: {score}\")\n",
    "\n",
    "print(\"Mean Accuracy: \", scores2.mean())"
   ]
  },
  {
   "cell_type": "code",
   "execution_count": 86,
   "id": "cbdaa08b",
   "metadata": {},
   "outputs": [
    {
     "name": "stdout",
     "output_type": "stream",
     "text": [
      "Fold 1: 0.9982593559617058\n",
      "Fold 2: 0.9972149695387293\n",
      "Fold 3: 0.9986074847693647\n",
      "Fold 4: 0.9965187119234117\n",
      "Fold 5: 0.9975626740947076\n",
      "Mean Accuracy:  0.9976326392575838\n"
     ]
    }
   ],
   "source": [
    "# Rel\n",
    "\n",
    "scores = cross_val_score(rf2, x_train_res_rel, y_train_res_rel, cv=kfold)\n",
    "\n",
    "# Print the accuracy scores for each fold\n",
    "for fold, score in enumerate(scores):\n",
    "    print(f\"Fold {fold+1}: {score}\")\n",
    "\n",
    "print(\"Mean Accuracy: \", scores.mean())"
   ]
  },
  {
   "cell_type": "code",
   "execution_count": 87,
   "id": "76a271e6",
   "metadata": {},
   "outputs": [
    {
     "name": "stderr",
     "output_type": "stream",
     "text": [
      "C:\\Users\\nadin\\anaconda3\\envs\\tensorf_gpu\\lib\\site-packages\\sklearn\\base.py:493: FutureWarning: The feature names should match those that were passed during fit. Starting version 1.2, an error will be raised.\n",
      "Feature names unseen at fit time:\n",
      "- datesets_duplicates_match\n",
      "- datesets_subject_main_match\n",
      "Feature names seen at fit time, yet now missing:\n",
      "- cluster_duplicates\n",
      "- cluster_subject_main\n",
      "\n",
      "  warnings.warn(message, FutureWarning)\n",
      "C:\\Users\\nadin\\anaconda3\\envs\\tensorf_gpu\\lib\\site-packages\\sklearn\\base.py:493: FutureWarning: The feature names should match those that were passed during fit. Starting version 1.2, an error will be raised.\n",
      "Feature names unseen at fit time:\n",
      "- datesets_duplicates_match\n",
      "- datesets_subject_main_match\n",
      "Feature names seen at fit time, yet now missing:\n",
      "- cluster_duplicates\n",
      "- cluster_subject_main\n",
      "\n",
      "  warnings.warn(message, FutureWarning)\n"
     ]
    }
   ],
   "source": [
    "# testing\n",
    "test_data = test_m.copy()\n",
    "#xnew_test = test_data.drop(columns=['datesets_duplicates_match','datesets_subject_main_match'])\n",
    "\n",
    "yd_predict_test = rf1.predict(test_data)              # Dup(d1,d2)  \n",
    "ym_predict_test = rf2.predict(test_data)              # Rel(d1,d2) \n",
    "\n",
    "test_data[\"Dup_match\"] = yd_predict_test\n",
    "test_data[\"Rel_match\"] = ym_predict_test"
   ]
  },
  {
   "cell_type": "code",
   "execution_count": 88,
   "id": "96e784fe",
   "metadata": {},
   "outputs": [
    {
     "name": "stdout",
     "output_type": "stream",
     "text": [
      "0    22149\n",
      "1      429\n",
      "Name: Rel_match, dtype: int64\n",
      "0    22526\n",
      "1       52\n",
      "Name: Dup_match, dtype: int64\n"
     ]
    }
   ],
   "source": [
    "print(test_data['Rel_match'].value_counts())\n",
    "print(test_data['Dup_match'].value_counts())"
   ]
  },
  {
   "cell_type": "markdown",
   "id": "0eda9afc",
   "metadata": {},
   "source": [
    "This approach **yielded the closest results to our original test data** as it regarded several **observations** and lead to the model getting **better training and testing results.**"
   ]
  },
  {
   "cell_type": "code",
   "execution_count": 89,
   "id": "6eb76f4d",
   "metadata": {},
   "outputs": [],
   "source": [
    "# original data\n",
    "# Main matches for Rel(d1,d2):\n",
    "#  0    22008\n",
    "# 1      570\n",
    "# Name: datesets_subject_main_match, dtype: int64\n",
    "# Duplicate matches for Dup(d1,d2):\n",
    "#  0    22450\n",
    "# 1      128\n",
    "# Name: datesets_duplicates_match, dtype: int64"
   ]
  }
 ],
 "metadata": {
  "kernelspec": {
   "display_name": "Python 3 (ipykernel)",
   "language": "python",
   "name": "python3"
  },
  "language_info": {
   "codemirror_mode": {
    "name": "ipython",
    "version": 3
   },
   "file_extension": ".py",
   "mimetype": "text/x-python",
   "name": "python",
   "nbconvert_exporter": "python",
   "pygments_lexer": "ipython3",
   "version": "3.8.13"
  }
 },
 "nbformat": 4,
 "nbformat_minor": 5
}
